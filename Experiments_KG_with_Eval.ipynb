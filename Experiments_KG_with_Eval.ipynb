{
  "nbformat": 4,
  "nbformat_minor": 0,
  "metadata": {
    "colab": {
      "provenance": [],
      "toc_visible": true,
      "authorship_tag": "ABX9TyMi549GsnVmO/0a1cpGRei5",
      "include_colab_link": true
    },
    "kernelspec": {
      "name": "python3",
      "display_name": "Python 3"
    },
    "language_info": {
      "name": "python"
    },
    "widgets": {
      "application/vnd.jupyter.widget-state+json": {
        "07bd8f95afc442b9939560827ef788a9": {
          "model_module": "@jupyter-widgets/controls",
          "model_name": "HBoxModel",
          "model_module_version": "1.5.0",
          "state": {
            "_dom_classes": [],
            "_model_module": "@jupyter-widgets/controls",
            "_model_module_version": "1.5.0",
            "_model_name": "HBoxModel",
            "_view_count": null,
            "_view_module": "@jupyter-widgets/controls",
            "_view_module_version": "1.5.0",
            "_view_name": "HBoxView",
            "box_style": "",
            "children": [
              "IPY_MODEL_0bde76bb40fa42b49f5fdb25ae7682df",
              "IPY_MODEL_ee9c5bcc086645409e176af3de72cbcd",
              "IPY_MODEL_d6eb26894848470493c489add4f771f1"
            ],
            "layout": "IPY_MODEL_92de6bca5f784832958b017542cd43a3"
          }
        },
        "0bde76bb40fa42b49f5fdb25ae7682df": {
          "model_module": "@jupyter-widgets/controls",
          "model_name": "HTMLModel",
          "model_module_version": "1.5.0",
          "state": {
            "_dom_classes": [],
            "_model_module": "@jupyter-widgets/controls",
            "_model_module_version": "1.5.0",
            "_model_name": "HTMLModel",
            "_view_count": null,
            "_view_module": "@jupyter-widgets/controls",
            "_view_module_version": "1.5.0",
            "_view_name": "HTMLView",
            "description": "",
            "description_tooltip": null,
            "layout": "IPY_MODEL_2b22578d792e4fed9874bc131a5c5aa2",
            "placeholder": "​",
            "style": "IPY_MODEL_e87769996fa54b36a521f6851e20edce",
            "value": "Parsing nodes: 100%"
          }
        },
        "ee9c5bcc086645409e176af3de72cbcd": {
          "model_module": "@jupyter-widgets/controls",
          "model_name": "FloatProgressModel",
          "model_module_version": "1.5.0",
          "state": {
            "_dom_classes": [],
            "_model_module": "@jupyter-widgets/controls",
            "_model_module_version": "1.5.0",
            "_model_name": "FloatProgressModel",
            "_view_count": null,
            "_view_module": "@jupyter-widgets/controls",
            "_view_module_version": "1.5.0",
            "_view_name": "ProgressView",
            "bar_style": "success",
            "description": "",
            "description_tooltip": null,
            "layout": "IPY_MODEL_08f9e3934a3349ada9efd23f74b1470b",
            "max": 1,
            "min": 0,
            "orientation": "horizontal",
            "style": "IPY_MODEL_51be9293f9264783b95f9ca6898b34ff",
            "value": 1
          }
        },
        "d6eb26894848470493c489add4f771f1": {
          "model_module": "@jupyter-widgets/controls",
          "model_name": "HTMLModel",
          "model_module_version": "1.5.0",
          "state": {
            "_dom_classes": [],
            "_model_module": "@jupyter-widgets/controls",
            "_model_module_version": "1.5.0",
            "_model_name": "HTMLModel",
            "_view_count": null,
            "_view_module": "@jupyter-widgets/controls",
            "_view_module_version": "1.5.0",
            "_view_name": "HTMLView",
            "description": "",
            "description_tooltip": null,
            "layout": "IPY_MODEL_45f4dd388d2b4e0aba8e97c64149cc57",
            "placeholder": "​",
            "style": "IPY_MODEL_11309179b70140aa94576e786601fc61",
            "value": " 1/1 [00:00&lt;00:00, 11.33it/s]"
          }
        },
        "92de6bca5f784832958b017542cd43a3": {
          "model_module": "@jupyter-widgets/base",
          "model_name": "LayoutModel",
          "model_module_version": "1.2.0",
          "state": {
            "_model_module": "@jupyter-widgets/base",
            "_model_module_version": "1.2.0",
            "_model_name": "LayoutModel",
            "_view_count": null,
            "_view_module": "@jupyter-widgets/base",
            "_view_module_version": "1.2.0",
            "_view_name": "LayoutView",
            "align_content": null,
            "align_items": null,
            "align_self": null,
            "border": null,
            "bottom": null,
            "display": null,
            "flex": null,
            "flex_flow": null,
            "grid_area": null,
            "grid_auto_columns": null,
            "grid_auto_flow": null,
            "grid_auto_rows": null,
            "grid_column": null,
            "grid_gap": null,
            "grid_row": null,
            "grid_template_areas": null,
            "grid_template_columns": null,
            "grid_template_rows": null,
            "height": null,
            "justify_content": null,
            "justify_items": null,
            "left": null,
            "margin": null,
            "max_height": null,
            "max_width": null,
            "min_height": null,
            "min_width": null,
            "object_fit": null,
            "object_position": null,
            "order": null,
            "overflow": null,
            "overflow_x": null,
            "overflow_y": null,
            "padding": null,
            "right": null,
            "top": null,
            "visibility": null,
            "width": null
          }
        },
        "2b22578d792e4fed9874bc131a5c5aa2": {
          "model_module": "@jupyter-widgets/base",
          "model_name": "LayoutModel",
          "model_module_version": "1.2.0",
          "state": {
            "_model_module": "@jupyter-widgets/base",
            "_model_module_version": "1.2.0",
            "_model_name": "LayoutModel",
            "_view_count": null,
            "_view_module": "@jupyter-widgets/base",
            "_view_module_version": "1.2.0",
            "_view_name": "LayoutView",
            "align_content": null,
            "align_items": null,
            "align_self": null,
            "border": null,
            "bottom": null,
            "display": null,
            "flex": null,
            "flex_flow": null,
            "grid_area": null,
            "grid_auto_columns": null,
            "grid_auto_flow": null,
            "grid_auto_rows": null,
            "grid_column": null,
            "grid_gap": null,
            "grid_row": null,
            "grid_template_areas": null,
            "grid_template_columns": null,
            "grid_template_rows": null,
            "height": null,
            "justify_content": null,
            "justify_items": null,
            "left": null,
            "margin": null,
            "max_height": null,
            "max_width": null,
            "min_height": null,
            "min_width": null,
            "object_fit": null,
            "object_position": null,
            "order": null,
            "overflow": null,
            "overflow_x": null,
            "overflow_y": null,
            "padding": null,
            "right": null,
            "top": null,
            "visibility": null,
            "width": null
          }
        },
        "e87769996fa54b36a521f6851e20edce": {
          "model_module": "@jupyter-widgets/controls",
          "model_name": "DescriptionStyleModel",
          "model_module_version": "1.5.0",
          "state": {
            "_model_module": "@jupyter-widgets/controls",
            "_model_module_version": "1.5.0",
            "_model_name": "DescriptionStyleModel",
            "_view_count": null,
            "_view_module": "@jupyter-widgets/base",
            "_view_module_version": "1.2.0",
            "_view_name": "StyleView",
            "description_width": ""
          }
        },
        "08f9e3934a3349ada9efd23f74b1470b": {
          "model_module": "@jupyter-widgets/base",
          "model_name": "LayoutModel",
          "model_module_version": "1.2.0",
          "state": {
            "_model_module": "@jupyter-widgets/base",
            "_model_module_version": "1.2.0",
            "_model_name": "LayoutModel",
            "_view_count": null,
            "_view_module": "@jupyter-widgets/base",
            "_view_module_version": "1.2.0",
            "_view_name": "LayoutView",
            "align_content": null,
            "align_items": null,
            "align_self": null,
            "border": null,
            "bottom": null,
            "display": null,
            "flex": null,
            "flex_flow": null,
            "grid_area": null,
            "grid_auto_columns": null,
            "grid_auto_flow": null,
            "grid_auto_rows": null,
            "grid_column": null,
            "grid_gap": null,
            "grid_row": null,
            "grid_template_areas": null,
            "grid_template_columns": null,
            "grid_template_rows": null,
            "height": null,
            "justify_content": null,
            "justify_items": null,
            "left": null,
            "margin": null,
            "max_height": null,
            "max_width": null,
            "min_height": null,
            "min_width": null,
            "object_fit": null,
            "object_position": null,
            "order": null,
            "overflow": null,
            "overflow_x": null,
            "overflow_y": null,
            "padding": null,
            "right": null,
            "top": null,
            "visibility": null,
            "width": null
          }
        },
        "51be9293f9264783b95f9ca6898b34ff": {
          "model_module": "@jupyter-widgets/controls",
          "model_name": "ProgressStyleModel",
          "model_module_version": "1.5.0",
          "state": {
            "_model_module": "@jupyter-widgets/controls",
            "_model_module_version": "1.5.0",
            "_model_name": "ProgressStyleModel",
            "_view_count": null,
            "_view_module": "@jupyter-widgets/base",
            "_view_module_version": "1.2.0",
            "_view_name": "StyleView",
            "bar_color": null,
            "description_width": ""
          }
        },
        "45f4dd388d2b4e0aba8e97c64149cc57": {
          "model_module": "@jupyter-widgets/base",
          "model_name": "LayoutModel",
          "model_module_version": "1.2.0",
          "state": {
            "_model_module": "@jupyter-widgets/base",
            "_model_module_version": "1.2.0",
            "_model_name": "LayoutModel",
            "_view_count": null,
            "_view_module": "@jupyter-widgets/base",
            "_view_module_version": "1.2.0",
            "_view_name": "LayoutView",
            "align_content": null,
            "align_items": null,
            "align_self": null,
            "border": null,
            "bottom": null,
            "display": null,
            "flex": null,
            "flex_flow": null,
            "grid_area": null,
            "grid_auto_columns": null,
            "grid_auto_flow": null,
            "grid_auto_rows": null,
            "grid_column": null,
            "grid_gap": null,
            "grid_row": null,
            "grid_template_areas": null,
            "grid_template_columns": null,
            "grid_template_rows": null,
            "height": null,
            "justify_content": null,
            "justify_items": null,
            "left": null,
            "margin": null,
            "max_height": null,
            "max_width": null,
            "min_height": null,
            "min_width": null,
            "object_fit": null,
            "object_position": null,
            "order": null,
            "overflow": null,
            "overflow_x": null,
            "overflow_y": null,
            "padding": null,
            "right": null,
            "top": null,
            "visibility": null,
            "width": null
          }
        },
        "11309179b70140aa94576e786601fc61": {
          "model_module": "@jupyter-widgets/controls",
          "model_name": "DescriptionStyleModel",
          "model_module_version": "1.5.0",
          "state": {
            "_model_module": "@jupyter-widgets/controls",
            "_model_module_version": "1.5.0",
            "_model_name": "DescriptionStyleModel",
            "_view_count": null,
            "_view_module": "@jupyter-widgets/base",
            "_view_module_version": "1.2.0",
            "_view_name": "StyleView",
            "description_width": ""
          }
        },
        "ee844e30201b4bc486c858a1e6c7c38b": {
          "model_module": "@jupyter-widgets/controls",
          "model_name": "HBoxModel",
          "model_module_version": "1.5.0",
          "state": {
            "_dom_classes": [],
            "_model_module": "@jupyter-widgets/controls",
            "_model_module_version": "1.5.0",
            "_model_name": "HBoxModel",
            "_view_count": null,
            "_view_module": "@jupyter-widgets/controls",
            "_view_module_version": "1.5.0",
            "_view_name": "HBoxView",
            "box_style": "",
            "children": [
              "IPY_MODEL_8ea82e2744fd4ca285f68e0d42952f07",
              "IPY_MODEL_b26934c66e77473e9c66194a9a85bbf6",
              "IPY_MODEL_f82203efc4704305ba638ff0fa77ec2e"
            ],
            "layout": "IPY_MODEL_13c58aa9ca8946bfba0e38da80369b88"
          }
        },
        "8ea82e2744fd4ca285f68e0d42952f07": {
          "model_module": "@jupyter-widgets/controls",
          "model_name": "HTMLModel",
          "model_module_version": "1.5.0",
          "state": {
            "_dom_classes": [],
            "_model_module": "@jupyter-widgets/controls",
            "_model_module_version": "1.5.0",
            "_model_name": "HTMLModel",
            "_view_count": null,
            "_view_module": "@jupyter-widgets/controls",
            "_view_module_version": "1.5.0",
            "_view_name": "HTMLView",
            "description": "",
            "description_tooltip": null,
            "layout": "IPY_MODEL_cb8242767a4f485c9c5d985567d62b11",
            "placeholder": "​",
            "style": "IPY_MODEL_be1996f46b4244538840e23febc73c2a",
            "value": "Parsing nodes: 100%"
          }
        },
        "b26934c66e77473e9c66194a9a85bbf6": {
          "model_module": "@jupyter-widgets/controls",
          "model_name": "FloatProgressModel",
          "model_module_version": "1.5.0",
          "state": {
            "_dom_classes": [],
            "_model_module": "@jupyter-widgets/controls",
            "_model_module_version": "1.5.0",
            "_model_name": "FloatProgressModel",
            "_view_count": null,
            "_view_module": "@jupyter-widgets/controls",
            "_view_module_version": "1.5.0",
            "_view_name": "ProgressView",
            "bar_style": "success",
            "description": "",
            "description_tooltip": null,
            "layout": "IPY_MODEL_f48ecc773c684b07afd0fa846fe99119",
            "max": 1,
            "min": 0,
            "orientation": "horizontal",
            "style": "IPY_MODEL_9b2db3b7165c4231a3a25792acd9f9e4",
            "value": 1
          }
        },
        "f82203efc4704305ba638ff0fa77ec2e": {
          "model_module": "@jupyter-widgets/controls",
          "model_name": "HTMLModel",
          "model_module_version": "1.5.0",
          "state": {
            "_dom_classes": [],
            "_model_module": "@jupyter-widgets/controls",
            "_model_module_version": "1.5.0",
            "_model_name": "HTMLModel",
            "_view_count": null,
            "_view_module": "@jupyter-widgets/controls",
            "_view_module_version": "1.5.0",
            "_view_name": "HTMLView",
            "description": "",
            "description_tooltip": null,
            "layout": "IPY_MODEL_b94d77af0ec04c21920f013eaeae7a1c",
            "placeholder": "​",
            "style": "IPY_MODEL_ccb93c36a38a4642be7d95e81ea35049",
            "value": " 1/1 [00:00&lt;00:00,  6.58it/s]"
          }
        },
        "13c58aa9ca8946bfba0e38da80369b88": {
          "model_module": "@jupyter-widgets/base",
          "model_name": "LayoutModel",
          "model_module_version": "1.2.0",
          "state": {
            "_model_module": "@jupyter-widgets/base",
            "_model_module_version": "1.2.0",
            "_model_name": "LayoutModel",
            "_view_count": null,
            "_view_module": "@jupyter-widgets/base",
            "_view_module_version": "1.2.0",
            "_view_name": "LayoutView",
            "align_content": null,
            "align_items": null,
            "align_self": null,
            "border": null,
            "bottom": null,
            "display": null,
            "flex": null,
            "flex_flow": null,
            "grid_area": null,
            "grid_auto_columns": null,
            "grid_auto_flow": null,
            "grid_auto_rows": null,
            "grid_column": null,
            "grid_gap": null,
            "grid_row": null,
            "grid_template_areas": null,
            "grid_template_columns": null,
            "grid_template_rows": null,
            "height": null,
            "justify_content": null,
            "justify_items": null,
            "left": null,
            "margin": null,
            "max_height": null,
            "max_width": null,
            "min_height": null,
            "min_width": null,
            "object_fit": null,
            "object_position": null,
            "order": null,
            "overflow": null,
            "overflow_x": null,
            "overflow_y": null,
            "padding": null,
            "right": null,
            "top": null,
            "visibility": null,
            "width": null
          }
        },
        "cb8242767a4f485c9c5d985567d62b11": {
          "model_module": "@jupyter-widgets/base",
          "model_name": "LayoutModel",
          "model_module_version": "1.2.0",
          "state": {
            "_model_module": "@jupyter-widgets/base",
            "_model_module_version": "1.2.0",
            "_model_name": "LayoutModel",
            "_view_count": null,
            "_view_module": "@jupyter-widgets/base",
            "_view_module_version": "1.2.0",
            "_view_name": "LayoutView",
            "align_content": null,
            "align_items": null,
            "align_self": null,
            "border": null,
            "bottom": null,
            "display": null,
            "flex": null,
            "flex_flow": null,
            "grid_area": null,
            "grid_auto_columns": null,
            "grid_auto_flow": null,
            "grid_auto_rows": null,
            "grid_column": null,
            "grid_gap": null,
            "grid_row": null,
            "grid_template_areas": null,
            "grid_template_columns": null,
            "grid_template_rows": null,
            "height": null,
            "justify_content": null,
            "justify_items": null,
            "left": null,
            "margin": null,
            "max_height": null,
            "max_width": null,
            "min_height": null,
            "min_width": null,
            "object_fit": null,
            "object_position": null,
            "order": null,
            "overflow": null,
            "overflow_x": null,
            "overflow_y": null,
            "padding": null,
            "right": null,
            "top": null,
            "visibility": null,
            "width": null
          }
        },
        "be1996f46b4244538840e23febc73c2a": {
          "model_module": "@jupyter-widgets/controls",
          "model_name": "DescriptionStyleModel",
          "model_module_version": "1.5.0",
          "state": {
            "_model_module": "@jupyter-widgets/controls",
            "_model_module_version": "1.5.0",
            "_model_name": "DescriptionStyleModel",
            "_view_count": null,
            "_view_module": "@jupyter-widgets/base",
            "_view_module_version": "1.2.0",
            "_view_name": "StyleView",
            "description_width": ""
          }
        },
        "f48ecc773c684b07afd0fa846fe99119": {
          "model_module": "@jupyter-widgets/base",
          "model_name": "LayoutModel",
          "model_module_version": "1.2.0",
          "state": {
            "_model_module": "@jupyter-widgets/base",
            "_model_module_version": "1.2.0",
            "_model_name": "LayoutModel",
            "_view_count": null,
            "_view_module": "@jupyter-widgets/base",
            "_view_module_version": "1.2.0",
            "_view_name": "LayoutView",
            "align_content": null,
            "align_items": null,
            "align_self": null,
            "border": null,
            "bottom": null,
            "display": null,
            "flex": null,
            "flex_flow": null,
            "grid_area": null,
            "grid_auto_columns": null,
            "grid_auto_flow": null,
            "grid_auto_rows": null,
            "grid_column": null,
            "grid_gap": null,
            "grid_row": null,
            "grid_template_areas": null,
            "grid_template_columns": null,
            "grid_template_rows": null,
            "height": null,
            "justify_content": null,
            "justify_items": null,
            "left": null,
            "margin": null,
            "max_height": null,
            "max_width": null,
            "min_height": null,
            "min_width": null,
            "object_fit": null,
            "object_position": null,
            "order": null,
            "overflow": null,
            "overflow_x": null,
            "overflow_y": null,
            "padding": null,
            "right": null,
            "top": null,
            "visibility": null,
            "width": null
          }
        },
        "9b2db3b7165c4231a3a25792acd9f9e4": {
          "model_module": "@jupyter-widgets/controls",
          "model_name": "ProgressStyleModel",
          "model_module_version": "1.5.0",
          "state": {
            "_model_module": "@jupyter-widgets/controls",
            "_model_module_version": "1.5.0",
            "_model_name": "ProgressStyleModel",
            "_view_count": null,
            "_view_module": "@jupyter-widgets/base",
            "_view_module_version": "1.2.0",
            "_view_name": "StyleView",
            "bar_color": null,
            "description_width": ""
          }
        },
        "b94d77af0ec04c21920f013eaeae7a1c": {
          "model_module": "@jupyter-widgets/base",
          "model_name": "LayoutModel",
          "model_module_version": "1.2.0",
          "state": {
            "_model_module": "@jupyter-widgets/base",
            "_model_module_version": "1.2.0",
            "_model_name": "LayoutModel",
            "_view_count": null,
            "_view_module": "@jupyter-widgets/base",
            "_view_module_version": "1.2.0",
            "_view_name": "LayoutView",
            "align_content": null,
            "align_items": null,
            "align_self": null,
            "border": null,
            "bottom": null,
            "display": null,
            "flex": null,
            "flex_flow": null,
            "grid_area": null,
            "grid_auto_columns": null,
            "grid_auto_flow": null,
            "grid_auto_rows": null,
            "grid_column": null,
            "grid_gap": null,
            "grid_row": null,
            "grid_template_areas": null,
            "grid_template_columns": null,
            "grid_template_rows": null,
            "height": null,
            "justify_content": null,
            "justify_items": null,
            "left": null,
            "margin": null,
            "max_height": null,
            "max_width": null,
            "min_height": null,
            "min_width": null,
            "object_fit": null,
            "object_position": null,
            "order": null,
            "overflow": null,
            "overflow_x": null,
            "overflow_y": null,
            "padding": null,
            "right": null,
            "top": null,
            "visibility": null,
            "width": null
          }
        },
        "ccb93c36a38a4642be7d95e81ea35049": {
          "model_module": "@jupyter-widgets/controls",
          "model_name": "DescriptionStyleModel",
          "model_module_version": "1.5.0",
          "state": {
            "_model_module": "@jupyter-widgets/controls",
            "_model_module_version": "1.5.0",
            "_model_name": "DescriptionStyleModel",
            "_view_count": null,
            "_view_module": "@jupyter-widgets/base",
            "_view_module_version": "1.2.0",
            "_view_name": "StyleView",
            "description_width": ""
          }
        },
        "5253eec390bd4b5ab50af554668add29": {
          "model_module": "@jupyter-widgets/controls",
          "model_name": "HBoxModel",
          "model_module_version": "1.5.0",
          "state": {
            "_dom_classes": [],
            "_model_module": "@jupyter-widgets/controls",
            "_model_module_version": "1.5.0",
            "_model_name": "HBoxModel",
            "_view_count": null,
            "_view_module": "@jupyter-widgets/controls",
            "_view_module_version": "1.5.0",
            "_view_name": "HBoxView",
            "box_style": "",
            "children": [
              "IPY_MODEL_c7d9c3ef0f294d769d81f164e1a45af2",
              "IPY_MODEL_b0e4a6e72782460ab3483f112c6785dc",
              "IPY_MODEL_42e4f79b1a904fc7b858bea3027a4345"
            ],
            "layout": "IPY_MODEL_abfdfde714b54ac79ace9bbb75b044bb"
          }
        },
        "c7d9c3ef0f294d769d81f164e1a45af2": {
          "model_module": "@jupyter-widgets/controls",
          "model_name": "HTMLModel",
          "model_module_version": "1.5.0",
          "state": {
            "_dom_classes": [],
            "_model_module": "@jupyter-widgets/controls",
            "_model_module_version": "1.5.0",
            "_model_name": "HTMLModel",
            "_view_count": null,
            "_view_module": "@jupyter-widgets/controls",
            "_view_module_version": "1.5.0",
            "_view_name": "HTMLView",
            "description": "",
            "description_tooltip": null,
            "layout": "IPY_MODEL_1be2df902f2b41a49d0940ca221bc86e",
            "placeholder": "​",
            "style": "IPY_MODEL_e15a6aa595a84535b38e29dc8b35607d",
            "value": "Parsing nodes: 100%"
          }
        },
        "b0e4a6e72782460ab3483f112c6785dc": {
          "model_module": "@jupyter-widgets/controls",
          "model_name": "FloatProgressModel",
          "model_module_version": "1.5.0",
          "state": {
            "_dom_classes": [],
            "_model_module": "@jupyter-widgets/controls",
            "_model_module_version": "1.5.0",
            "_model_name": "FloatProgressModel",
            "_view_count": null,
            "_view_module": "@jupyter-widgets/controls",
            "_view_module_version": "1.5.0",
            "_view_name": "ProgressView",
            "bar_style": "success",
            "description": "",
            "description_tooltip": null,
            "layout": "IPY_MODEL_2c2b616efe5d4dbd8e85862a46770a84",
            "max": 1,
            "min": 0,
            "orientation": "horizontal",
            "style": "IPY_MODEL_bcf25984d3c148a789c496191c0a468d",
            "value": 1
          }
        },
        "42e4f79b1a904fc7b858bea3027a4345": {
          "model_module": "@jupyter-widgets/controls",
          "model_name": "HTMLModel",
          "model_module_version": "1.5.0",
          "state": {
            "_dom_classes": [],
            "_model_module": "@jupyter-widgets/controls",
            "_model_module_version": "1.5.0",
            "_model_name": "HTMLModel",
            "_view_count": null,
            "_view_module": "@jupyter-widgets/controls",
            "_view_module_version": "1.5.0",
            "_view_name": "HTMLView",
            "description": "",
            "description_tooltip": null,
            "layout": "IPY_MODEL_c152e791848d4191a2ab8b0950dcc5f9",
            "placeholder": "​",
            "style": "IPY_MODEL_c49b453b3e6b4fdfb188883f4d0bff42",
            "value": " 1/1 [00:00&lt;00:00, 22.22it/s]"
          }
        },
        "abfdfde714b54ac79ace9bbb75b044bb": {
          "model_module": "@jupyter-widgets/base",
          "model_name": "LayoutModel",
          "model_module_version": "1.2.0",
          "state": {
            "_model_module": "@jupyter-widgets/base",
            "_model_module_version": "1.2.0",
            "_model_name": "LayoutModel",
            "_view_count": null,
            "_view_module": "@jupyter-widgets/base",
            "_view_module_version": "1.2.0",
            "_view_name": "LayoutView",
            "align_content": null,
            "align_items": null,
            "align_self": null,
            "border": null,
            "bottom": null,
            "display": null,
            "flex": null,
            "flex_flow": null,
            "grid_area": null,
            "grid_auto_columns": null,
            "grid_auto_flow": null,
            "grid_auto_rows": null,
            "grid_column": null,
            "grid_gap": null,
            "grid_row": null,
            "grid_template_areas": null,
            "grid_template_columns": null,
            "grid_template_rows": null,
            "height": null,
            "justify_content": null,
            "justify_items": null,
            "left": null,
            "margin": null,
            "max_height": null,
            "max_width": null,
            "min_height": null,
            "min_width": null,
            "object_fit": null,
            "object_position": null,
            "order": null,
            "overflow": null,
            "overflow_x": null,
            "overflow_y": null,
            "padding": null,
            "right": null,
            "top": null,
            "visibility": null,
            "width": null
          }
        },
        "1be2df902f2b41a49d0940ca221bc86e": {
          "model_module": "@jupyter-widgets/base",
          "model_name": "LayoutModel",
          "model_module_version": "1.2.0",
          "state": {
            "_model_module": "@jupyter-widgets/base",
            "_model_module_version": "1.2.0",
            "_model_name": "LayoutModel",
            "_view_count": null,
            "_view_module": "@jupyter-widgets/base",
            "_view_module_version": "1.2.0",
            "_view_name": "LayoutView",
            "align_content": null,
            "align_items": null,
            "align_self": null,
            "border": null,
            "bottom": null,
            "display": null,
            "flex": null,
            "flex_flow": null,
            "grid_area": null,
            "grid_auto_columns": null,
            "grid_auto_flow": null,
            "grid_auto_rows": null,
            "grid_column": null,
            "grid_gap": null,
            "grid_row": null,
            "grid_template_areas": null,
            "grid_template_columns": null,
            "grid_template_rows": null,
            "height": null,
            "justify_content": null,
            "justify_items": null,
            "left": null,
            "margin": null,
            "max_height": null,
            "max_width": null,
            "min_height": null,
            "min_width": null,
            "object_fit": null,
            "object_position": null,
            "order": null,
            "overflow": null,
            "overflow_x": null,
            "overflow_y": null,
            "padding": null,
            "right": null,
            "top": null,
            "visibility": null,
            "width": null
          }
        },
        "e15a6aa595a84535b38e29dc8b35607d": {
          "model_module": "@jupyter-widgets/controls",
          "model_name": "DescriptionStyleModel",
          "model_module_version": "1.5.0",
          "state": {
            "_model_module": "@jupyter-widgets/controls",
            "_model_module_version": "1.5.0",
            "_model_name": "DescriptionStyleModel",
            "_view_count": null,
            "_view_module": "@jupyter-widgets/base",
            "_view_module_version": "1.2.0",
            "_view_name": "StyleView",
            "description_width": ""
          }
        },
        "2c2b616efe5d4dbd8e85862a46770a84": {
          "model_module": "@jupyter-widgets/base",
          "model_name": "LayoutModel",
          "model_module_version": "1.2.0",
          "state": {
            "_model_module": "@jupyter-widgets/base",
            "_model_module_version": "1.2.0",
            "_model_name": "LayoutModel",
            "_view_count": null,
            "_view_module": "@jupyter-widgets/base",
            "_view_module_version": "1.2.0",
            "_view_name": "LayoutView",
            "align_content": null,
            "align_items": null,
            "align_self": null,
            "border": null,
            "bottom": null,
            "display": null,
            "flex": null,
            "flex_flow": null,
            "grid_area": null,
            "grid_auto_columns": null,
            "grid_auto_flow": null,
            "grid_auto_rows": null,
            "grid_column": null,
            "grid_gap": null,
            "grid_row": null,
            "grid_template_areas": null,
            "grid_template_columns": null,
            "grid_template_rows": null,
            "height": null,
            "justify_content": null,
            "justify_items": null,
            "left": null,
            "margin": null,
            "max_height": null,
            "max_width": null,
            "min_height": null,
            "min_width": null,
            "object_fit": null,
            "object_position": null,
            "order": null,
            "overflow": null,
            "overflow_x": null,
            "overflow_y": null,
            "padding": null,
            "right": null,
            "top": null,
            "visibility": null,
            "width": null
          }
        },
        "bcf25984d3c148a789c496191c0a468d": {
          "model_module": "@jupyter-widgets/controls",
          "model_name": "ProgressStyleModel",
          "model_module_version": "1.5.0",
          "state": {
            "_model_module": "@jupyter-widgets/controls",
            "_model_module_version": "1.5.0",
            "_model_name": "ProgressStyleModel",
            "_view_count": null,
            "_view_module": "@jupyter-widgets/base",
            "_view_module_version": "1.2.0",
            "_view_name": "StyleView",
            "bar_color": null,
            "description_width": ""
          }
        },
        "c152e791848d4191a2ab8b0950dcc5f9": {
          "model_module": "@jupyter-widgets/base",
          "model_name": "LayoutModel",
          "model_module_version": "1.2.0",
          "state": {
            "_model_module": "@jupyter-widgets/base",
            "_model_module_version": "1.2.0",
            "_model_name": "LayoutModel",
            "_view_count": null,
            "_view_module": "@jupyter-widgets/base",
            "_view_module_version": "1.2.0",
            "_view_name": "LayoutView",
            "align_content": null,
            "align_items": null,
            "align_self": null,
            "border": null,
            "bottom": null,
            "display": null,
            "flex": null,
            "flex_flow": null,
            "grid_area": null,
            "grid_auto_columns": null,
            "grid_auto_flow": null,
            "grid_auto_rows": null,
            "grid_column": null,
            "grid_gap": null,
            "grid_row": null,
            "grid_template_areas": null,
            "grid_template_columns": null,
            "grid_template_rows": null,
            "height": null,
            "justify_content": null,
            "justify_items": null,
            "left": null,
            "margin": null,
            "max_height": null,
            "max_width": null,
            "min_height": null,
            "min_width": null,
            "object_fit": null,
            "object_position": null,
            "order": null,
            "overflow": null,
            "overflow_x": null,
            "overflow_y": null,
            "padding": null,
            "right": null,
            "top": null,
            "visibility": null,
            "width": null
          }
        },
        "c49b453b3e6b4fdfb188883f4d0bff42": {
          "model_module": "@jupyter-widgets/controls",
          "model_name": "DescriptionStyleModel",
          "model_module_version": "1.5.0",
          "state": {
            "_model_module": "@jupyter-widgets/controls",
            "_model_module_version": "1.5.0",
            "_model_name": "DescriptionStyleModel",
            "_view_count": null,
            "_view_module": "@jupyter-widgets/base",
            "_view_module_version": "1.2.0",
            "_view_name": "StyleView",
            "description_width": ""
          }
        }
      }
    }
  },
  "cells": [
    {
      "cell_type": "markdown",
      "metadata": {
        "id": "view-in-github",
        "colab_type": "text"
      },
      "source": [
        "<a href=\"https://colab.research.google.com/github/kinue00/KG_Eval/blob/main/Experiments_KG_with_Eval.ipynb\" target=\"_parent\"><img src=\"https://colab.research.google.com/assets/colab-badge.svg\" alt=\"Open In Colab\"/></a>"
      ]
    },
    {
      "cell_type": "markdown",
      "source": [
        "This notebook belongs to a knowledge graph evalutation project -- some link."
      ],
      "metadata": {
        "id": "Y-3lalkuXoQp"
      }
    },
    {
      "cell_type": "code",
      "source": [
        "from google.colab import files\n",
        "\n",
        "!pip freeze > requirements.txt\n",
        "files.download('requirements.txt')"
      ],
      "metadata": {
        "colab": {
          "base_uri": "https://localhost:8080/",
          "height": 17
        },
        "id": "-hvn8PF2pTqu",
        "outputId": "3f76ec4e-e201-4d3d-e9d2-0cdea3b05081"
      },
      "execution_count": null,
      "outputs": [
        {
          "output_type": "display_data",
          "data": {
            "text/plain": [
              "<IPython.core.display.HTML object>"
            ],
            "text/html": [
              "\n",
              "  <style>\n",
              "    pre {\n",
              "        white-space: pre-wrap;\n",
              "    }\n",
              "  </style>\n",
              "  "
            ]
          },
          "metadata": {}
        },
        {
          "output_type": "display_data",
          "data": {
            "text/plain": [
              "<IPython.core.display.Javascript object>"
            ],
            "application/javascript": [
              "\n",
              "    async function download(id, filename, size) {\n",
              "      if (!google.colab.kernel.accessAllowed) {\n",
              "        return;\n",
              "      }\n",
              "      const div = document.createElement('div');\n",
              "      const label = document.createElement('label');\n",
              "      label.textContent = `Downloading \"${filename}\": `;\n",
              "      div.appendChild(label);\n",
              "      const progress = document.createElement('progress');\n",
              "      progress.max = size;\n",
              "      div.appendChild(progress);\n",
              "      document.body.appendChild(div);\n",
              "\n",
              "      const buffers = [];\n",
              "      let downloaded = 0;\n",
              "\n",
              "      const channel = await google.colab.kernel.comms.open(id);\n",
              "      // Send a message to notify the kernel that we're ready.\n",
              "      channel.send({})\n",
              "\n",
              "      for await (const message of channel.messages) {\n",
              "        // Send a message to notify the kernel that we're ready.\n",
              "        channel.send({})\n",
              "        if (message.buffers) {\n",
              "          for (const buffer of message.buffers) {\n",
              "            buffers.push(buffer);\n",
              "            downloaded += buffer.byteLength;\n",
              "            progress.value = downloaded;\n",
              "          }\n",
              "        }\n",
              "      }\n",
              "      const blob = new Blob(buffers, {type: 'application/binary'});\n",
              "      const a = document.createElement('a');\n",
              "      a.href = window.URL.createObjectURL(blob);\n",
              "      a.download = filename;\n",
              "      div.appendChild(a);\n",
              "      a.click();\n",
              "      div.remove();\n",
              "    }\n",
              "  "
            ]
          },
          "metadata": {}
        },
        {
          "output_type": "display_data",
          "data": {
            "text/plain": [
              "<IPython.core.display.Javascript object>"
            ],
            "application/javascript": [
              "download(\"download_bcf3a396-e283-49d5-9879-11ebea7b9fbc\", \"requirements.txt\", 11555)"
            ]
          },
          "metadata": {}
        }
      ]
    },
    {
      "cell_type": "markdown",
      "source": [
        "## Set up and imports"
      ],
      "metadata": {
        "id": "1SFfFDYT9nf_"
      }
    },
    {
      "cell_type": "code",
      "source": [
        "# Line Wrapping in Colab\n",
        "from IPython.display import HTML, display\n",
        "\n",
        "def set_css():\n",
        "  display(HTML('''\n",
        "  <style>\n",
        "    pre {\n",
        "        white-space: pre-wrap;\n",
        "    }\n",
        "  </style>\n",
        "  '''))\n",
        "get_ipython().events.register('pre_run_cell', set_css)"
      ],
      "metadata": {
        "id": "jsh28ivNIR2C"
      },
      "execution_count": null,
      "outputs": []
    },
    {
      "cell_type": "code",
      "source": [
        "# An elegant way to view JSON data\n",
        "import json\n",
        "from IPython.display import HTML, display\n",
        "\n",
        "def view_json(data):\n",
        "    \"\"\"\n",
        "    Display JSON data as an interactive, collapsible tree in Google Colab.\n",
        "\n",
        "    Args:\n",
        "    data (dict or str): JSON data to display. Can be a Python dictionary or a JSON string.\n",
        "    \"\"\"\n",
        "    if isinstance(data, str):\n",
        "        data = json.loads(data)\n",
        "\n",
        "    # escape the semicolon using a backslash\n",
        "    html_content = \"\"\"\n",
        "    <script src=\"https://cdnjs.cloudflare.com/ajax/libs/jsoneditor/9.9.2/jsoneditor.min.js\"></script>\n",
        "    <link href=\"https://cdnjs.cloudflare.com/ajax/libs/jsoneditor/9.9.2/jsoneditor.min.css\" rel=\"stylesheet\" type=\"text/css\">\n",
        "    <div id=\"jsoneditor\" style=\"width: 100%%; height: 400px;\"></div>\n",
        "    <script>\n",
        "        var container = document.getElementById(\"jsoneditor\");\n",
        "        var options = {\n",
        "            mode: 'tree',\n",
        "            modes: ['tree', 'view', 'form', 'code', 'text', 'preview'],\n",
        "            onError: function (err) {\n",
        "                alert(err.toString());\n",
        "            }\n",
        "        };\n",
        "        var editor = new JSONEditor(container, options);\n",
        "        var json = %s;\n",
        "        editor.set(json);\n",
        "        editor.expandAll();\n",
        "    </script>\n",
        "    \"\"\" % json.dumps(data)\n",
        "\n",
        "    display(HTML(html_content))"
      ],
      "metadata": {
        "colab": {
          "base_uri": "https://localhost:8080/",
          "height": 17
        },
        "id": "VNxY5cYvLwAC",
        "outputId": "e03c103a-d928-469b-e560-06bd4d9cc378"
      },
      "execution_count": null,
      "outputs": [
        {
          "output_type": "display_data",
          "data": {
            "text/plain": [
              "<IPython.core.display.HTML object>"
            ],
            "text/html": [
              "\n",
              "  <style>\n",
              "    pre {\n",
              "        white-space: pre-wrap;\n",
              "    }\n",
              "  </style>\n",
              "  "
            ]
          },
          "metadata": {}
        }
      ]
    },
    {
      "cell_type": "code",
      "source": [
        "!pip install llama_index llama-index-llms-perplexity pyvis wikipedia llama-index-graph-stores-neo4j treelib\n",
        "\n"
      ],
      "metadata": {
        "id": "tAt-mHjiYTKf",
        "colab": {
          "base_uri": "https://localhost:8080/",
          "height": 1000
        },
        "outputId": "4657fba2-2c01-457f-9e95-0ab6fd745a32",
        "collapsed": true
      },
      "execution_count": null,
      "outputs": [
        {
          "output_type": "display_data",
          "data": {
            "text/plain": [
              "<IPython.core.display.HTML object>"
            ],
            "text/html": [
              "\n",
              "  <style>\n",
              "    pre {\n",
              "        white-space: pre-wrap;\n",
              "    }\n",
              "  </style>\n",
              "  "
            ]
          },
          "metadata": {}
        },
        {
          "output_type": "stream",
          "name": "stdout",
          "text": [
            "Requirement already satisfied: llama_index in /usr/local/lib/python3.10/dist-packages (0.11.19)\n",
            "Requirement already satisfied: llama-index-llms-perplexity in /usr/local/lib/python3.10/dist-packages (0.2.1)\n",
            "Requirement already satisfied: pyvis in /usr/local/lib/python3.10/dist-packages (0.3.2)\n",
            "Requirement already satisfied: wikipedia in /usr/local/lib/python3.10/dist-packages (1.4.0)\n",
            "Requirement already satisfied: llama-index-graph-stores-neo4j in /usr/local/lib/python3.10/dist-packages (0.3.4)\n",
            "Collecting treelib\n",
            "  Downloading treelib-1.7.0-py3-none-any.whl.metadata (1.3 kB)\n",
            "Requirement already satisfied: llama-index-agent-openai<0.4.0,>=0.3.4 in /usr/local/lib/python3.10/dist-packages (from llama_index) (0.3.4)\n",
            "Requirement already satisfied: llama-index-cli<0.4.0,>=0.3.1 in /usr/local/lib/python3.10/dist-packages (from llama_index) (0.3.1)\n",
            "Requirement already satisfied: llama-index-core<0.12.0,>=0.11.19 in /usr/local/lib/python3.10/dist-packages (from llama_index) (0.11.19)\n",
            "Requirement already satisfied: llama-index-embeddings-openai<0.3.0,>=0.2.4 in /usr/local/lib/python3.10/dist-packages (from llama_index) (0.2.5)\n",
            "Requirement already satisfied: llama-index-indices-managed-llama-cloud>=0.3.0 in /usr/local/lib/python3.10/dist-packages (from llama_index) (0.4.0)\n",
            "Requirement already satisfied: llama-index-legacy<0.10.0,>=0.9.48 in /usr/local/lib/python3.10/dist-packages (from llama_index) (0.9.48.post3)\n",
            "Requirement already satisfied: llama-index-llms-openai<0.3.0,>=0.2.10 in /usr/local/lib/python3.10/dist-packages (from llama_index) (0.2.16)\n",
            "Requirement already satisfied: llama-index-multi-modal-llms-openai<0.3.0,>=0.2.0 in /usr/local/lib/python3.10/dist-packages (from llama_index) (0.2.3)\n",
            "Requirement already satisfied: llama-index-program-openai<0.3.0,>=0.2.0 in /usr/local/lib/python3.10/dist-packages (from llama_index) (0.2.0)\n",
            "Requirement already satisfied: llama-index-question-gen-openai<0.3.0,>=0.2.0 in /usr/local/lib/python3.10/dist-packages (from llama_index) (0.2.0)\n",
            "Requirement already satisfied: llama-index-readers-file<0.3.0,>=0.2.0 in /usr/local/lib/python3.10/dist-packages (from llama_index) (0.2.2)\n",
            "Requirement already satisfied: llama-index-readers-llama-parse>=0.3.0 in /usr/local/lib/python3.10/dist-packages (from llama_index) (0.3.0)\n",
            "Requirement already satisfied: nltk>3.8.1 in /usr/local/lib/python3.10/dist-packages (from llama_index) (3.9.1)\n",
            "Requirement already satisfied: ipython>=5.3.0 in /usr/local/lib/python3.10/dist-packages (from pyvis) (7.34.0)\n",
            "Requirement already satisfied: jinja2>=2.9.6 in /usr/local/lib/python3.10/dist-packages (from pyvis) (3.1.4)\n",
            "Requirement already satisfied: jsonpickle>=1.4.1 in /usr/local/lib/python3.10/dist-packages (from pyvis) (3.3.0)\n",
            "Requirement already satisfied: networkx>=1.11 in /usr/local/lib/python3.10/dist-packages (from pyvis) (3.4.1)\n",
            "Requirement already satisfied: beautifulsoup4 in /usr/local/lib/python3.10/dist-packages (from wikipedia) (4.12.3)\n",
            "Requirement already satisfied: requests<3.0.0,>=2.0.0 in /usr/local/lib/python3.10/dist-packages (from wikipedia) (2.32.3)\n",
            "Requirement already satisfied: neo4j<6.0.0,>=5.16.0 in /usr/local/lib/python3.10/dist-packages (from llama-index-graph-stores-neo4j) (5.25.0)\n",
            "Requirement already satisfied: six in /usr/local/lib/python3.10/dist-packages (from treelib) (1.16.0)\n",
            "Requirement already satisfied: setuptools>=18.5 in /usr/local/lib/python3.10/dist-packages (from ipython>=5.3.0->pyvis) (75.1.0)\n",
            "Requirement already satisfied: jedi>=0.16 in /usr/local/lib/python3.10/dist-packages (from ipython>=5.3.0->pyvis) (0.19.1)\n",
            "Requirement already satisfied: decorator in /usr/local/lib/python3.10/dist-packages (from ipython>=5.3.0->pyvis) (4.4.2)\n",
            "Requirement already satisfied: pickleshare in /usr/local/lib/python3.10/dist-packages (from ipython>=5.3.0->pyvis) (0.7.5)\n",
            "Requirement already satisfied: traitlets>=4.2 in /usr/local/lib/python3.10/dist-packages (from ipython>=5.3.0->pyvis) (5.7.1)\n",
            "Requirement already satisfied: prompt-toolkit!=3.0.0,!=3.0.1,<3.1.0,>=2.0.0 in /usr/local/lib/python3.10/dist-packages (from ipython>=5.3.0->pyvis) (3.0.48)\n",
            "Requirement already satisfied: pygments in /usr/local/lib/python3.10/dist-packages (from ipython>=5.3.0->pyvis) (2.18.0)\n",
            "Requirement already satisfied: backcall in /usr/local/lib/python3.10/dist-packages (from ipython>=5.3.0->pyvis) (0.2.0)\n",
            "Requirement already satisfied: matplotlib-inline in /usr/local/lib/python3.10/dist-packages (from ipython>=5.3.0->pyvis) (0.1.7)\n",
            "Requirement already satisfied: pexpect>4.3 in /usr/local/lib/python3.10/dist-packages (from ipython>=5.3.0->pyvis) (4.9.0)\n",
            "Requirement already satisfied: MarkupSafe>=2.0 in /usr/local/lib/python3.10/dist-packages (from jinja2>=2.9.6->pyvis) (3.0.2)\n",
            "Requirement already satisfied: openai>=1.14.0 in /usr/local/lib/python3.10/dist-packages (from llama-index-agent-openai<0.4.0,>=0.3.4->llama_index) (1.52.1)\n",
            "Requirement already satisfied: PyYAML>=6.0.1 in /usr/local/lib/python3.10/dist-packages (from llama-index-core<0.12.0,>=0.11.19->llama_index) (6.0.2)\n",
            "Requirement already satisfied: SQLAlchemy>=1.4.49 in /usr/local/lib/python3.10/dist-packages (from SQLAlchemy[asyncio]>=1.4.49->llama-index-core<0.12.0,>=0.11.19->llama_index) (2.0.36)\n",
            "Requirement already satisfied: aiohttp<4.0.0,>=3.8.6 in /usr/local/lib/python3.10/dist-packages (from llama-index-core<0.12.0,>=0.11.19->llama_index) (3.10.10)\n",
            "Requirement already satisfied: dataclasses-json in /usr/local/lib/python3.10/dist-packages (from llama-index-core<0.12.0,>=0.11.19->llama_index) (0.6.7)\n",
            "Requirement already satisfied: deprecated>=1.2.9.3 in /usr/local/lib/python3.10/dist-packages (from llama-index-core<0.12.0,>=0.11.19->llama_index) (1.2.14)\n",
            "Requirement already satisfied: dirtyjson<2.0.0,>=1.0.8 in /usr/local/lib/python3.10/dist-packages (from llama-index-core<0.12.0,>=0.11.19->llama_index) (1.0.8)\n",
            "Requirement already satisfied: fsspec>=2023.5.0 in /usr/local/lib/python3.10/dist-packages (from llama-index-core<0.12.0,>=0.11.19->llama_index) (2024.6.1)\n",
            "Requirement already satisfied: httpx in /usr/local/lib/python3.10/dist-packages (from llama-index-core<0.12.0,>=0.11.19->llama_index) (0.27.2)\n",
            "Requirement already satisfied: nest-asyncio<2.0.0,>=1.5.8 in /usr/local/lib/python3.10/dist-packages (from llama-index-core<0.12.0,>=0.11.19->llama_index) (1.6.0)\n",
            "Requirement already satisfied: numpy<2.0.0 in /usr/local/lib/python3.10/dist-packages (from llama-index-core<0.12.0,>=0.11.19->llama_index) (1.26.4)\n",
            "Requirement already satisfied: pillow>=9.0.0 in /usr/local/lib/python3.10/dist-packages (from llama-index-core<0.12.0,>=0.11.19->llama_index) (10.4.0)\n",
            "Requirement already satisfied: pydantic<3.0.0,>=2.7.0 in /usr/local/lib/python3.10/dist-packages (from llama-index-core<0.12.0,>=0.11.19->llama_index) (2.9.2)\n",
            "Requirement already satisfied: tenacity!=8.4.0,<9.0.0,>=8.2.0 in /usr/local/lib/python3.10/dist-packages (from llama-index-core<0.12.0,>=0.11.19->llama_index) (8.5.0)\n",
            "Requirement already satisfied: tiktoken>=0.3.3 in /usr/local/lib/python3.10/dist-packages (from llama-index-core<0.12.0,>=0.11.19->llama_index) (0.8.0)\n",
            "Requirement already satisfied: tqdm<5.0.0,>=4.66.1 in /usr/local/lib/python3.10/dist-packages (from llama-index-core<0.12.0,>=0.11.19->llama_index) (4.66.5)\n",
            "Requirement already satisfied: typing-extensions>=4.5.0 in /usr/local/lib/python3.10/dist-packages (from llama-index-core<0.12.0,>=0.11.19->llama_index) (4.12.2)\n",
            "Requirement already satisfied: typing-inspect>=0.8.0 in /usr/local/lib/python3.10/dist-packages (from llama-index-core<0.12.0,>=0.11.19->llama_index) (0.9.0)\n",
            "Requirement already satisfied: wrapt in /usr/local/lib/python3.10/dist-packages (from llama-index-core<0.12.0,>=0.11.19->llama_index) (1.16.0)\n",
            "Requirement already satisfied: llama-cloud>=0.0.11 in /usr/local/lib/python3.10/dist-packages (from llama-index-indices-managed-llama-cloud>=0.3.0->llama_index) (0.1.4)\n",
            "Requirement already satisfied: pandas in /usr/local/lib/python3.10/dist-packages (from llama-index-legacy<0.10.0,>=0.9.48->llama_index) (2.2.2)\n",
            "Requirement already satisfied: pypdf<5.0.0,>=4.0.1 in /usr/local/lib/python3.10/dist-packages (from llama-index-readers-file<0.3.0,>=0.2.0->llama_index) (4.3.1)\n",
            "Requirement already satisfied: striprtf<0.0.27,>=0.0.26 in /usr/local/lib/python3.10/dist-packages (from llama-index-readers-file<0.3.0,>=0.2.0->llama_index) (0.0.26)\n",
            "Requirement already satisfied: soupsieve>1.2 in /usr/local/lib/python3.10/dist-packages (from beautifulsoup4->wikipedia) (2.6)\n",
            "Requirement already satisfied: llama-parse>=0.5.0 in /usr/local/lib/python3.10/dist-packages (from llama-index-readers-llama-parse>=0.3.0->llama_index) (0.5.11)\n",
            "Requirement already satisfied: pytz in /usr/local/lib/python3.10/dist-packages (from neo4j<6.0.0,>=5.16.0->llama-index-graph-stores-neo4j) (2024.2)\n",
            "Requirement already satisfied: click in /usr/local/lib/python3.10/dist-packages (from nltk>3.8.1->llama_index) (8.1.7)\n",
            "Requirement already satisfied: joblib in /usr/local/lib/python3.10/dist-packages (from nltk>3.8.1->llama_index) (1.4.2)\n",
            "Requirement already satisfied: regex>=2021.8.3 in /usr/local/lib/python3.10/dist-packages (from nltk>3.8.1->llama_index) (2024.9.11)\n",
            "Requirement already satisfied: charset-normalizer<4,>=2 in /usr/local/lib/python3.10/dist-packages (from requests<3.0.0,>=2.0.0->wikipedia) (3.4.0)\n",
            "Requirement already satisfied: idna<4,>=2.5 in /usr/local/lib/python3.10/dist-packages (from requests<3.0.0,>=2.0.0->wikipedia) (3.10)\n",
            "Requirement already satisfied: urllib3<3,>=1.21.1 in /usr/local/lib/python3.10/dist-packages (from requests<3.0.0,>=2.0.0->wikipedia) (2.2.3)\n",
            "Requirement already satisfied: certifi>=2017.4.17 in /usr/local/lib/python3.10/dist-packages (from requests<3.0.0,>=2.0.0->wikipedia) (2024.8.30)\n",
            "Requirement already satisfied: aiohappyeyeballs>=2.3.0 in /usr/local/lib/python3.10/dist-packages (from aiohttp<4.0.0,>=3.8.6->llama-index-core<0.12.0,>=0.11.19->llama_index) (2.4.3)\n",
            "Requirement already satisfied: aiosignal>=1.1.2 in /usr/local/lib/python3.10/dist-packages (from aiohttp<4.0.0,>=3.8.6->llama-index-core<0.12.0,>=0.11.19->llama_index) (1.3.1)\n",
            "Requirement already satisfied: attrs>=17.3.0 in /usr/local/lib/python3.10/dist-packages (from aiohttp<4.0.0,>=3.8.6->llama-index-core<0.12.0,>=0.11.19->llama_index) (24.2.0)\n",
            "Requirement already satisfied: frozenlist>=1.1.1 in /usr/local/lib/python3.10/dist-packages (from aiohttp<4.0.0,>=3.8.6->llama-index-core<0.12.0,>=0.11.19->llama_index) (1.4.1)\n",
            "Requirement already satisfied: multidict<7.0,>=4.5 in /usr/local/lib/python3.10/dist-packages (from aiohttp<4.0.0,>=3.8.6->llama-index-core<0.12.0,>=0.11.19->llama_index) (6.1.0)\n",
            "Requirement already satisfied: yarl<2.0,>=1.12.0 in /usr/local/lib/python3.10/dist-packages (from aiohttp<4.0.0,>=3.8.6->llama-index-core<0.12.0,>=0.11.19->llama_index) (1.15.4)\n",
            "Requirement already satisfied: async-timeout<5.0,>=4.0 in /usr/local/lib/python3.10/dist-packages (from aiohttp<4.0.0,>=3.8.6->llama-index-core<0.12.0,>=0.11.19->llama_index) (4.0.3)\n",
            "Requirement already satisfied: parso<0.9.0,>=0.8.3 in /usr/local/lib/python3.10/dist-packages (from jedi>=0.16->ipython>=5.3.0->pyvis) (0.8.4)\n",
            "Requirement already satisfied: anyio in /usr/local/lib/python3.10/dist-packages (from httpx->llama-index-core<0.12.0,>=0.11.19->llama_index) (3.7.1)\n",
            "Requirement already satisfied: httpcore==1.* in /usr/local/lib/python3.10/dist-packages (from httpx->llama-index-core<0.12.0,>=0.11.19->llama_index) (1.0.6)\n",
            "Requirement already satisfied: sniffio in /usr/local/lib/python3.10/dist-packages (from httpx->llama-index-core<0.12.0,>=0.11.19->llama_index) (1.3.1)\n",
            "Requirement already satisfied: h11<0.15,>=0.13 in /usr/local/lib/python3.10/dist-packages (from httpcore==1.*->httpx->llama-index-core<0.12.0,>=0.11.19->llama_index) (0.14.0)\n",
            "Requirement already satisfied: distro<2,>=1.7.0 in /usr/lib/python3/dist-packages (from openai>=1.14.0->llama-index-agent-openai<0.4.0,>=0.3.4->llama_index) (1.7.0)\n",
            "Requirement already satisfied: jiter<1,>=0.4.0 in /usr/local/lib/python3.10/dist-packages (from openai>=1.14.0->llama-index-agent-openai<0.4.0,>=0.3.4->llama_index) (0.6.1)\n",
            "Requirement already satisfied: ptyprocess>=0.5 in /usr/local/lib/python3.10/dist-packages (from pexpect>4.3->ipython>=5.3.0->pyvis) (0.7.0)\n",
            "Requirement already satisfied: wcwidth in /usr/local/lib/python3.10/dist-packages (from prompt-toolkit!=3.0.0,!=3.0.1,<3.1.0,>=2.0.0->ipython>=5.3.0->pyvis) (0.2.13)\n",
            "Requirement already satisfied: annotated-types>=0.6.0 in /usr/local/lib/python3.10/dist-packages (from pydantic<3.0.0,>=2.7.0->llama-index-core<0.12.0,>=0.11.19->llama_index) (0.7.0)\n",
            "Requirement already satisfied: pydantic-core==2.23.4 in /usr/local/lib/python3.10/dist-packages (from pydantic<3.0.0,>=2.7.0->llama-index-core<0.12.0,>=0.11.19->llama_index) (2.23.4)\n",
            "Requirement already satisfied: greenlet!=0.4.17 in /usr/local/lib/python3.10/dist-packages (from SQLAlchemy>=1.4.49->SQLAlchemy[asyncio]>=1.4.49->llama-index-core<0.12.0,>=0.11.19->llama_index) (3.1.1)\n",
            "Requirement already satisfied: mypy-extensions>=0.3.0 in /usr/local/lib/python3.10/dist-packages (from typing-inspect>=0.8.0->llama-index-core<0.12.0,>=0.11.19->llama_index) (1.0.0)\n",
            "Requirement already satisfied: marshmallow<4.0.0,>=3.18.0 in /usr/local/lib/python3.10/dist-packages (from dataclasses-json->llama-index-core<0.12.0,>=0.11.19->llama_index) (3.23.0)\n",
            "Requirement already satisfied: python-dateutil>=2.8.2 in /usr/local/lib/python3.10/dist-packages (from pandas->llama-index-legacy<0.10.0,>=0.9.48->llama_index) (2.8.2)\n",
            "Requirement already satisfied: tzdata>=2022.7 in /usr/local/lib/python3.10/dist-packages (from pandas->llama-index-legacy<0.10.0,>=0.9.48->llama_index) (2024.2)\n",
            "Requirement already satisfied: exceptiongroup in /usr/local/lib/python3.10/dist-packages (from anyio->httpx->llama-index-core<0.12.0,>=0.11.19->llama_index) (1.2.2)\n",
            "Requirement already satisfied: packaging>=17.0 in /usr/local/lib/python3.10/dist-packages (from marshmallow<4.0.0,>=3.18.0->dataclasses-json->llama-index-core<0.12.0,>=0.11.19->llama_index) (24.1)\n",
            "Requirement already satisfied: propcache>=0.2.0 in /usr/local/lib/python3.10/dist-packages (from yarl<2.0,>=1.12.0->aiohttp<4.0.0,>=3.8.6->llama-index-core<0.12.0,>=0.11.19->llama_index) (0.2.0)\n",
            "Downloading treelib-1.7.0-py3-none-any.whl (18 kB)\n",
            "Installing collected packages: treelib\n",
            "Successfully installed treelib-1.7.0\n"
          ]
        }
      ]
    },
    {
      "cell_type": "code",
      "source": [
        "from llama_index.core import Document, PropertyGraphIndex\n",
        "from llama_index.core.indices.property_graph import (\n",
        "    SimpleLLMPathExtractor,\n",
        "    SchemaLLMPathExtractor,\n",
        "    DynamicLLMPathExtractor,\n",
        ")\n",
        "from llama_index.llms.perplexity import Perplexity\n",
        "from llama_index.llms.openai import OpenAI\n",
        "from llama_index.core import Settings\n",
        "\n",
        "import wikipedia\n",
        "\n",
        "import os"
      ],
      "metadata": {
        "id": "X8gT6vPr9yIN",
        "colab": {
          "base_uri": "https://localhost:8080/",
          "height": 17
        },
        "outputId": "cdb739c9-5a5a-4c3d-86dc-2b71188ebb6d"
      },
      "execution_count": null,
      "outputs": [
        {
          "output_type": "display_data",
          "data": {
            "text/plain": [
              "<IPython.core.display.HTML object>"
            ],
            "text/html": [
              "\n",
              "  <style>\n",
              "    pre {\n",
              "        white-space: pre-wrap;\n",
              "    }\n",
              "  </style>\n",
              "  "
            ]
          },
          "metadata": {}
        }
      ]
    },
    {
      "cell_type": "code",
      "source": [
        "import nest_asyncio\n",
        "\n",
        "nest_asyncio.apply()"
      ],
      "metadata": {
        "id": "BKFR8Bcn9-an",
        "colab": {
          "base_uri": "https://localhost:8080/",
          "height": 17
        },
        "outputId": "959aa970-a803-409b-b6dd-c6a2069685e5"
      },
      "execution_count": null,
      "outputs": [
        {
          "output_type": "display_data",
          "data": {
            "text/plain": [
              "<IPython.core.display.HTML object>"
            ],
            "text/html": [
              "\n",
              "  <style>\n",
              "    pre {\n",
              "        white-space: pre-wrap;\n",
              "    }\n",
              "  </style>\n",
              "  "
            ]
          },
          "metadata": {}
        }
      ]
    },
    {
      "cell_type": "markdown",
      "source": [
        "### LLM set up"
      ],
      "metadata": {
        "id": "MXXJbHQ7dkx9"
      }
    },
    {
      "cell_type": "code",
      "source": [
        "# set up OpenAI model as the llm to request\n",
        "os.environ[\"OPENAI_API_KEY\"] = userdata.get('OPENAI_API_KEY')\n",
        "\n",
        "# Set up global configurations\n",
        "llm = OpenAI(temperature=0.0, model=\"gpt-4o-mini\")\n",
        "\n",
        "Settings.llm = llm\n",
        "Settings.chunk_size = 200\n",
        "Settings.chunk_overlap = 20"
      ],
      "metadata": {
        "id": "Plz2HUXxdpBu"
      },
      "execution_count": null,
      "outputs": []
    },
    {
      "cell_type": "markdown",
      "source": [
        "### Neo4j DB set up"
      ],
      "metadata": {
        "id": "218VFIi_3jAb"
      }
    },
    {
      "cell_type": "code",
      "source": [
        "# Neo4j DB set up\n",
        "from llama_index.graph_stores.neo4j import Neo4jPGStore\n",
        "\n",
        "username=\"neo4j\"\n",
        "password=userdata.get('PW_NEO4J')\n",
        "url=userdata.get('URI_NEO4J')\n",
        "\n",
        "graph_store = Neo4jPGStore(\n",
        "    username=username,\n",
        "    password=password,\n",
        "    url=url,\n",
        ")"
      ],
      "metadata": {
        "id": "T7jYHDv43nuz"
      },
      "execution_count": null,
      "outputs": []
    },
    {
      "cell_type": "markdown",
      "source": [
        "# 0. Test out LLM LLM Path Extractors for Knowledge Graph Construction from Llamaindex\n"
      ],
      "metadata": {
        "id": "RUdtPYM9YWU-"
      }
    },
    {
      "cell_type": "markdown",
      "source": [
        "Just skip this section, begin at §1."
      ],
      "metadata": {
        "id": "JcdkGcy7cx2_"
      }
    },
    {
      "cell_type": "markdown",
      "source": [
        "Setup LLM backend\n",
        "\n",
        "*   We are using llama 3.1 chat model with a context window of 131,072 tokens\n",
        "\n",
        "\n"
      ],
      "metadata": {
        "id": "ff99N_o2-Czj"
      }
    },
    {
      "cell_type": "code",
      "source": [
        "from google.colab import userdata\n",
        "\n",
        "pplx_api_key = userdata.get('PPLX_API_KEY')\n",
        "\n",
        "llm = Perplexity(\n",
        "    api_key=pplx_api_key,\n",
        "    model=\"llama-3.1-sonar-large-128k-chat\",\n",
        "    temperature=0.5,\n",
        "    # max_retries = 3,\n",
        "    # additional_kwargs = {\"timeout\": 60}\n",
        ")\n",
        "\n",
        "Settings.llm = llm\n",
        "Settings.chunk_size = 2048\n",
        "Settings.chunk_overlap = 20"
      ],
      "metadata": {
        "id": "ok3N5doM-FOc",
        "colab": {
          "base_uri": "https://localhost:8080/",
          "height": 17
        },
        "outputId": "2446f87f-c693-4c71-85a7-d7f6a87d829a"
      },
      "execution_count": null,
      "outputs": [
        {
          "output_type": "display_data",
          "data": {
            "text/plain": [
              "<IPython.core.display.HTML object>"
            ],
            "text/html": [
              "\n",
              "  <style>\n",
              "    pre {\n",
              "        white-space: pre-wrap;\n",
              "    }\n",
              "  </style>\n",
              "  "
            ]
          },
          "metadata": {}
        }
      ]
    },
    {
      "cell_type": "code",
      "source": [
        "dir(llm)"
      ],
      "metadata": {
        "colab": {
          "base_uri": "https://localhost:8080/",
          "height": 1000
        },
        "collapsed": true,
        "id": "C32MXUV-cq8X",
        "outputId": "d4196e34-63e6-4b0c-aebd-90b403d42215"
      },
      "execution_count": null,
      "outputs": [
        {
          "output_type": "display_data",
          "data": {
            "text/plain": [
              "<IPython.core.display.HTML object>"
            ],
            "text/html": [
              "\n",
              "  <style>\n",
              "    pre {\n",
              "        white-space: pre-wrap;\n",
              "    }\n",
              "  </style>\n",
              "  "
            ]
          },
          "metadata": {}
        },
        {
          "output_type": "execute_result",
          "data": {
            "text/plain": [
              "['__abstractmethods__',\n",
              " '__annotations__',\n",
              " '__class__',\n",
              " '__class_getitem__',\n",
              " '__class_vars__',\n",
              " '__copy__',\n",
              " '__deepcopy__',\n",
              " '__delattr__',\n",
              " '__dict__',\n",
              " '__dir__',\n",
              " '__doc__',\n",
              " '__eq__',\n",
              " '__fields__',\n",
              " '__fields_set__',\n",
              " '__format__',\n",
              " '__ge__',\n",
              " '__get_pydantic_core_schema__',\n",
              " '__get_pydantic_json_schema__',\n",
              " '__getattr__',\n",
              " '__getattribute__',\n",
              " '__getstate__',\n",
              " '__gt__',\n",
              " '__hash__',\n",
              " '__init__',\n",
              " '__init_subclass__',\n",
              " '__iter__',\n",
              " '__le__',\n",
              " '__lt__',\n",
              " '__module__',\n",
              " '__ne__',\n",
              " '__new__',\n",
              " '__pretty__',\n",
              " '__private_attributes__',\n",
              " '__pydantic_complete__',\n",
              " '__pydantic_core_schema__',\n",
              " '__pydantic_custom_init__',\n",
              " '__pydantic_decorators__',\n",
              " '__pydantic_extra__',\n",
              " '__pydantic_fields_set__',\n",
              " '__pydantic_generic_metadata__',\n",
              " '__pydantic_init_subclass__',\n",
              " '__pydantic_parent_namespace__',\n",
              " '__pydantic_post_init__',\n",
              " '__pydantic_private__',\n",
              " '__pydantic_root_model__',\n",
              " '__pydantic_serializer__',\n",
              " '__pydantic_validator__',\n",
              " '__reduce__',\n",
              " '__reduce_ex__',\n",
              " '__repr__',\n",
              " '__repr_args__',\n",
              " '__repr_name__',\n",
              " '__repr_str__',\n",
              " '__rich_repr__',\n",
              " '__setattr__',\n",
              " '__setstate__',\n",
              " '__signature__',\n",
              " '__sizeof__',\n",
              " '__slots__',\n",
              " '__str__',\n",
              " '__subclasshook__',\n",
              " '__weakref__',\n",
              " '_abc_impl',\n",
              " '_achat',\n",
              " '_acomplete',\n",
              " '_as_query_component',\n",
              " '_astream_chat',\n",
              " '_astream_complete',\n",
              " '_calculate_keys',\n",
              " '_chat',\n",
              " '_check_frozen',\n",
              " '_complete',\n",
              " '_copy_and_set_values',\n",
              " '_extend_messages',\n",
              " '_extend_prompt',\n",
              " '_get_all_kwargs',\n",
              " '_get_context_window',\n",
              " '_get_messages',\n",
              " '_get_prompt',\n",
              " '_get_value',\n",
              " '_is_chat_model',\n",
              " '_iter',\n",
              " '_log_template_data',\n",
              " '_parse_output',\n",
              " '_stream_chat',\n",
              " '_stream_complete',\n",
              " 'achat',\n",
              " 'acomplete',\n",
              " 'additional_kwargs',\n",
              " 'api_base',\n",
              " 'api_key',\n",
              " 'apredict',\n",
              " 'apredict_and_call',\n",
              " 'as_query_component',\n",
              " 'as_structured_llm',\n",
              " 'astream',\n",
              " 'astream_chat',\n",
              " 'astream_complete',\n",
              " 'astream_structured_predict',\n",
              " 'astructured_predict',\n",
              " 'callback_manager',\n",
              " 'chat',\n",
              " 'check_callback_manager',\n",
              " 'check_prompts',\n",
              " 'class_name',\n",
              " 'complete',\n",
              " 'completion_to_prompt',\n",
              " 'construct',\n",
              " 'context_window',\n",
              " 'convert_chat_messages',\n",
              " 'copy',\n",
              " 'custom_model_dump',\n",
              " 'dict',\n",
              " 'from_dict',\n",
              " 'from_json',\n",
              " 'from_orm',\n",
              " 'headers',\n",
              " 'json',\n",
              " 'max_retries',\n",
              " 'max_tokens',\n",
              " 'messages_to_prompt',\n",
              " 'metadata',\n",
              " 'model',\n",
              " 'model_computed_fields',\n",
              " 'model_config',\n",
              " 'model_construct',\n",
              " 'model_copy',\n",
              " 'model_dump',\n",
              " 'model_dump_json',\n",
              " 'model_extra',\n",
              " 'model_fields',\n",
              " 'model_fields_set',\n",
              " 'model_json_schema',\n",
              " 'model_parametrized_name',\n",
              " 'model_post_init',\n",
              " 'model_rebuild',\n",
              " 'model_validate',\n",
              " 'model_validate_json',\n",
              " 'model_validate_strings',\n",
              " 'output_parser',\n",
              " 'parse_file',\n",
              " 'parse_obj',\n",
              " 'parse_raw',\n",
              " 'predict',\n",
              " 'predict_and_call',\n",
              " 'pydantic_program_mode',\n",
              " 'query_wrapper_prompt',\n",
              " 'schema',\n",
              " 'schema_json',\n",
              " 'set_completion_to_prompt',\n",
              " 'set_messages_to_prompt',\n",
              " 'stream',\n",
              " 'stream_chat',\n",
              " 'stream_complete',\n",
              " 'stream_structured_predict',\n",
              " 'structured_predict',\n",
              " 'system_prompt',\n",
              " 'temperature',\n",
              " 'to_dict',\n",
              " 'to_json',\n",
              " 'update_forward_refs',\n",
              " 'validate']"
            ]
          },
          "metadata": {},
          "execution_count": 7
        }
      ]
    },
    {
      "cell_type": "markdown",
      "source": [
        "## 0.0. Tests for LLM API references (chat)"
      ],
      "metadata": {
        "id": "A8iDQc0fTF39"
      }
    },
    {
      "cell_type": "code",
      "source": [
        "# Test out Perplexity API reference\n",
        "import requests\n",
        "\n",
        "url = \"https://api.perplexity.ai/chat/completions\"\n",
        "\n",
        "payload = {\n",
        "    \"model\": \"llama-3.1-sonar-large-128k-chat\",\n",
        "    \"messages\": [\n",
        "        {\n",
        "            \"role\": \"system\",\n",
        "            \"content\": \"Be precise and concise.\"\n",
        "        },\n",
        "        {\n",
        "            \"role\": \"user\",\n",
        "            \"content\": \"How many stars are there in our galaxy?\"\n",
        "        }\n",
        "    ],\n",
        "    # \"max_tokens\": 131072,\n",
        "    \"temperature\": 0.2,  # The amount of randomness in the response, valued between 0 inclusive and 2 exclusive. Higher values are more random, and lower values are more deterministic.\n",
        "    \"top_p\": 0.9,  # The nucleus sampling threshold, valued between 0 and 1 inclusive. For each subsequent token, the model considers the results of the tokens with top_p probability mass. We recommend either altering top_k or top_p, but not both.\n",
        "    \"return_citations\": False,\n",
        "    \"search_domain_filter\": [\"perplexity.ai\"],\n",
        "    \"return_images\": False,\n",
        "    \"return_related_questions\": False,\n",
        "    \"search_recency_filter\": \"month\",\n",
        "    \"top_k\": 0,  # The number of tokens to keep for highest top-k filtering, specified as an integer between 0 and 2048 inclusive. If set to 0, top-k filtering is disabled. We recommend either altering top_k or top_p, but not both.\n",
        "    \"stream\": False,  # Determines whether or not to incrementally stream the response with server-sent events with content-type: text/event-stream.\n",
        "    \"presence_penalty\": 0,  # A value between -2.0 and 2.0. Positive values penalize new tokens based on whether they appear in the text so far, increasing the model's likelihood to talk about new topics. Incompatible with frequency_penalty.\n",
        "    \"frequency_penalty\": 1  # A multiplicative penalty greater than 0. Values greater than 1.0 penalize new tokens based on their existing frequency in the text so far, decreasing the model's likelihood to repeat the same line verbatim. A value of 1.0 means no penalty. Incompatible with presence_penalty.\n",
        "}\n",
        "headers = {\n",
        "    \"Authorization\": f\"Bearer {pplx_api_key}\",\n",
        "    \"Content-Type\": \"application/json\"\n",
        "}\n",
        "\n",
        "response = requests.request(\"POST\", url, json=payload, headers=headers)\n",
        "\n",
        "view_json(response.json())"
      ],
      "metadata": {
        "colab": {
          "base_uri": "https://localhost:8080/",
          "height": 417
        },
        "id": "HYK6WC7yG9-M",
        "outputId": "42f95a3c-87e6-4ca6-f78c-0a0063092709"
      },
      "execution_count": null,
      "outputs": [
        {
          "output_type": "display_data",
          "data": {
            "text/plain": [
              "<IPython.core.display.HTML object>"
            ],
            "text/html": [
              "\n",
              "  <style>\n",
              "    pre {\n",
              "        white-space: pre-wrap;\n",
              "    }\n",
              "  </style>\n",
              "  "
            ]
          },
          "metadata": {}
        },
        {
          "output_type": "display_data",
          "data": {
            "text/plain": [
              "<IPython.core.display.HTML object>"
            ],
            "text/html": [
              "\n",
              "    <script src=\"https://cdnjs.cloudflare.com/ajax/libs/jsoneditor/9.9.2/jsoneditor.min.js\"></script>\n",
              "    <link href=\"https://cdnjs.cloudflare.com/ajax/libs/jsoneditor/9.9.2/jsoneditor.min.css\" rel=\"stylesheet\" type=\"text/css\">\n",
              "    <div id=\"jsoneditor\" style=\"width: 100%; height: 400px;\"></div>\n",
              "    <script>\n",
              "        var container = document.getElementById(\"jsoneditor\");\n",
              "        var options = {\n",
              "            mode: 'tree',\n",
              "            modes: ['tree', 'view', 'form', 'code', 'text', 'preview'],\n",
              "            onError: function (err) {\n",
              "                alert(err.toString());\n",
              "            }\n",
              "        };\n",
              "        var editor = new JSONEditor(container, options);\n",
              "        var json = {\"id\": \"33be22c7-6e9a-48df-aadd-c0be2ef8082c\", \"model\": \"llama-3.1-sonar-large-128k-chat\", \"created\": 1729590595, \"usage\": {\"prompt_tokens\": 29, \"completion_tokens\": 35, \"total_tokens\": 64}, \"object\": \"chat.completion\", \"choices\": [{\"index\": 0, \"finish_reason\": \"stop\", \"message\": {\"role\": \"assistant\", \"content\": \"Estimates suggest that there are between 200 and 400 billion stars in the Milky Way galaxy. However, the exact number is still a subject of ongoing research and refinement.\"}, \"delta\": {\"role\": \"assistant\", \"content\": \"\"}}]};\n",
              "        editor.set(json);\n",
              "        editor.expandAll();\n",
              "    </script>\n",
              "    "
            ]
          },
          "metadata": {}
        }
      ]
    },
    {
      "cell_type": "code",
      "source": [
        "response.json()['choices'][0]['message']['content']"
      ],
      "metadata": {
        "colab": {
          "base_uri": "https://localhost:8080/",
          "height": 53
        },
        "id": "QuhptFPyMor2",
        "outputId": "5f4c1cd4-cfd8-4c1c-8d4e-1b19c3971ccd"
      },
      "execution_count": null,
      "outputs": [
        {
          "output_type": "display_data",
          "data": {
            "text/plain": [
              "<IPython.core.display.HTML object>"
            ],
            "text/html": [
              "\n",
              "  <style>\n",
              "    pre {\n",
              "        white-space: pre-wrap;\n",
              "    }\n",
              "  </style>\n",
              "  "
            ]
          },
          "metadata": {}
        },
        {
          "output_type": "execute_result",
          "data": {
            "text/plain": [
              "'Estimates suggest that there are between 200 and 400 billion stars in the Milky Way galaxy. However, the exact number is still a subject of ongoing research and refinement.'"
            ],
            "application/vnd.google.colaboratory.intrinsic+json": {
              "type": "string"
            }
          },
          "metadata": {},
          "execution_count": 9
        }
      ]
    },
    {
      "cell_type": "code",
      "source": [
        "# Test out LlamaIndex wrapping of PPLX API chat\n",
        "from llama_index.core.llms import ChatMessage\n",
        "\n",
        "messages_dict = [\n",
        "    {\"role\": \"system\", \"content\": \"Be precise and concise.\"},\n",
        "    {\"role\": \"user\", \"content\": \"Tell me 5 sentences about Perplexity.\"},\n",
        "]\n",
        "messages = [ChatMessage(**msg) for msg in messages_dict]\n",
        "\n",
        "response = llm.chat(messages)\n",
        "print(response)"
      ],
      "metadata": {
        "colab": {
          "base_uri": "https://localhost:8080/",
          "height": 104
        },
        "id": "yWz3udfuSSbK",
        "outputId": "6c0c35ca-d396-4a5f-8736-8b3e9533657e"
      },
      "execution_count": null,
      "outputs": [
        {
          "output_type": "display_data",
          "data": {
            "text/plain": [
              "<IPython.core.display.HTML object>"
            ],
            "text/html": [
              "\n",
              "  <style>\n",
              "    pre {\n",
              "        white-space: pre-wrap;\n",
              "    }\n",
              "  </style>\n",
              "  "
            ]
          },
          "metadata": {}
        },
        {
          "output_type": "stream",
          "name": "stdout",
          "text": [
            "assistant: Perplexity is a measure of how well a probability model predicts a test dataset. It is often used in natural language processing and information theory to evaluate the performance of language models. A lower perplexity score indicates better predictive performance, while a higher score suggests poorer performance. Perplexity is calculated as the exponential of the average negative log-likelihood of the test data. It provides a way to compare different models on their ability to predict unseen data.\n"
          ]
        }
      ]
    },
    {
      "cell_type": "markdown",
      "source": [
        "Perplexity api turns out to has a low rate limit and it possibly not doesn't fit for KG extraction, so we just use OpneAI's service."
      ],
      "metadata": {
        "id": "UmhppSndkql5"
      }
    },
    {
      "cell_type": "code",
      "source": [
        "# set up OpenAI model as the llm to request\n",
        "os.environ[\"OPENAI_API_KEY\"] = userdata.get('OPENAI_API_KEY')\n",
        "\n",
        "# Set up global configurations\n",
        "llm = OpenAI(temperature=0.0, model=\"gpt-4o-mini\")\n",
        "\n",
        "Settings.llm = llm\n",
        "Settings.chunk_size = 2048\n",
        "Settings.chunk_overlap = 20"
      ],
      "metadata": {
        "colab": {
          "base_uri": "https://localhost:8080/",
          "height": 17
        },
        "id": "bZ-VgwEFlCEB",
        "outputId": "db91feb5-1250-4215-c408-fad47ce08ce2"
      },
      "execution_count": null,
      "outputs": [
        {
          "output_type": "display_data",
          "data": {
            "text/plain": [
              "<IPython.core.display.HTML object>"
            ],
            "text/html": [
              "\n",
              "  <style>\n",
              "    pre {\n",
              "        white-space: pre-wrap;\n",
              "    }\n",
              "  </style>\n",
              "  "
            ]
          },
          "metadata": {}
        }
      ]
    },
    {
      "cell_type": "code",
      "source": [
        "# Test out OpenAI integration in LlamaIndex for chat\n",
        "response = llm.chat(messages)\n",
        "print(response)"
      ],
      "metadata": {
        "colab": {
          "base_uri": "https://localhost:8080/",
          "height": 121
        },
        "collapsed": true,
        "id": "g-Wz97XXliAj",
        "outputId": "eb0ddd48-7b7a-4378-ea46-3c0ed4e0b18e"
      },
      "execution_count": null,
      "outputs": [
        {
          "output_type": "display_data",
          "data": {
            "text/plain": [
              "<IPython.core.display.HTML object>"
            ],
            "text/html": [
              "\n",
              "  <style>\n",
              "    pre {\n",
              "        white-space: pre-wrap;\n",
              "    }\n",
              "  </style>\n",
              "  "
            ]
          },
          "metadata": {}
        },
        {
          "output_type": "stream",
          "name": "stdout",
          "text": [
            "assistant: 1. Perplexity is a state of being confused or puzzled, often resulting from a lack of understanding or clarity.\n",
            "2. It can arise when faced with complex or contradictory information, leading to uncertainty or indecision.\n",
            "3. Perplexity is a common human experience that can occur in various situations, such as when trying to solve a difficult problem or make a challenging decision.\n",
            "4. It may also be a temporary feeling that can be resolved through further exploration, reflection, or seeking help from others.\n",
            "5. Coping with perplexity can help individuals develop critical thinking skills and deepen their understanding of complex issues.\n"
          ]
        }
      ]
    },
    {
      "cell_type": "markdown",
      "source": [
        "Check for OpenAI api rate limits"
      ],
      "metadata": {
        "id": "LmGOZbTxzmDz"
      }
    },
    {
      "cell_type": "code",
      "source": [
        "!pip install openai"
      ],
      "metadata": {
        "colab": {
          "base_uri": "https://localhost:8080/",
          "height": 347
        },
        "collapsed": true,
        "id": "57XcNPLLv_k1",
        "outputId": "059f824e-38ec-450f-a68f-2b56fecda8d4"
      },
      "execution_count": null,
      "outputs": [
        {
          "output_type": "display_data",
          "data": {
            "text/plain": [
              "<IPython.core.display.HTML object>"
            ],
            "text/html": [
              "\n",
              "  <style>\n",
              "    pre {\n",
              "        white-space: pre-wrap;\n",
              "    }\n",
              "  </style>\n",
              "  "
            ]
          },
          "metadata": {}
        },
        {
          "output_type": "stream",
          "name": "stdout",
          "text": [
            "Requirement already satisfied: openai in /usr/local/lib/python3.10/dist-packages (1.52.0)\n",
            "Requirement already satisfied: anyio<5,>=3.5.0 in /usr/local/lib/python3.10/dist-packages (from openai) (3.7.1)\n",
            "Requirement already satisfied: distro<2,>=1.7.0 in /usr/lib/python3/dist-packages (from openai) (1.7.0)\n",
            "Requirement already satisfied: httpx<1,>=0.23.0 in /usr/local/lib/python3.10/dist-packages (from openai) (0.27.2)\n",
            "Requirement already satisfied: jiter<1,>=0.4.0 in /usr/local/lib/python3.10/dist-packages (from openai) (0.6.1)\n",
            "Requirement already satisfied: pydantic<3,>=1.9.0 in /usr/local/lib/python3.10/dist-packages (from openai) (2.9.2)\n",
            "Requirement already satisfied: sniffio in /usr/local/lib/python3.10/dist-packages (from openai) (1.3.1)\n",
            "Requirement already satisfied: tqdm>4 in /usr/local/lib/python3.10/dist-packages (from openai) (4.66.5)\n",
            "Requirement already satisfied: typing-extensions<5,>=4.11 in /usr/local/lib/python3.10/dist-packages (from openai) (4.12.2)\n",
            "Requirement already satisfied: idna>=2.8 in /usr/local/lib/python3.10/dist-packages (from anyio<5,>=3.5.0->openai) (3.10)\n",
            "Requirement already satisfied: exceptiongroup in /usr/local/lib/python3.10/dist-packages (from anyio<5,>=3.5.0->openai) (1.2.2)\n",
            "Requirement already satisfied: certifi in /usr/local/lib/python3.10/dist-packages (from httpx<1,>=0.23.0->openai) (2024.8.30)\n",
            "Requirement already satisfied: httpcore==1.* in /usr/local/lib/python3.10/dist-packages (from httpx<1,>=0.23.0->openai) (1.0.6)\n",
            "Requirement already satisfied: h11<0.15,>=0.13 in /usr/local/lib/python3.10/dist-packages (from httpcore==1.*->httpx<1,>=0.23.0->openai) (0.14.0)\n",
            "Requirement already satisfied: annotated-types>=0.6.0 in /usr/local/lib/python3.10/dist-packages (from pydantic<3,>=1.9.0->openai) (0.7.0)\n",
            "Requirement already satisfied: pydantic-core==2.23.4 in /usr/local/lib/python3.10/dist-packages (from pydantic<3,>=1.9.0->openai) (2.23.4)\n"
          ]
        }
      ]
    },
    {
      "cell_type": "code",
      "source": [
        "from openai import OpenAI\n",
        "client = OpenAI()\n",
        "\n",
        "response = client.chat.completions.with_raw_response.create(\n",
        "    messages=[{\n",
        "        \"role\": \"user\",\n",
        "        \"content\": \"Say this is a test\",\n",
        "    }],\n",
        "    model=\"gpt-3.5-turbo\",\n",
        ")"
      ],
      "metadata": {
        "colab": {
          "base_uri": "https://localhost:8080/",
          "height": 17
        },
        "collapsed": true,
        "id": "KgDg0LFcoaCf",
        "outputId": "e2df370c-03ca-4803-b169-b13fabb4006b"
      },
      "execution_count": null,
      "outputs": [
        {
          "output_type": "display_data",
          "data": {
            "text/plain": [
              "<IPython.core.display.HTML object>"
            ],
            "text/html": [
              "\n",
              "  <style>\n",
              "    pre {\n",
              "        white-space: pre-wrap;\n",
              "    }\n",
              "  </style>\n",
              "  "
            ]
          },
          "metadata": {}
        }
      ]
    },
    {
      "cell_type": "code",
      "source": [
        "# Access rate limit headers\n",
        "rate_limit_limit = response.headers.get('x-ratelimit-limit-requests')\n",
        "rate_limit_remaining = response.headers.get('x-ratelimit-remaining-requests')\n",
        "rate_limit_reset = response.headers.get('x-ratelimit-reset-requests')\n",
        "\n",
        "print(f\"Rate Limit: {rate_limit_limit}\")\n",
        "print(f\"Remaining Requests: {rate_limit_remaining}\")\n",
        "print(f\"Reset Time: {rate_limit_reset}\")"
      ],
      "metadata": {
        "colab": {
          "base_uri": "https://localhost:8080/",
          "height": 69
        },
        "id": "qKPPkvWIy-DL",
        "outputId": "6ec56c5c-ad4c-4140-e4c4-b746f154e67e"
      },
      "execution_count": null,
      "outputs": [
        {
          "output_type": "display_data",
          "data": {
            "text/plain": [
              "<IPython.core.display.HTML object>"
            ],
            "text/html": [
              "\n",
              "  <style>\n",
              "    pre {\n",
              "        white-space: pre-wrap;\n",
              "    }\n",
              "  </style>\n",
              "  "
            ]
          },
          "metadata": {}
        },
        {
          "output_type": "stream",
          "name": "stdout",
          "text": [
            "Rate Limit: 10000\n",
            "Remaining Requests: 9999\n",
            "Reset Time: 6ms\n"
          ]
        }
      ]
    },
    {
      "cell_type": "markdown",
      "source": [
        "## 0.1. Fetch Raw Text from Wikipedia\n",
        "For starter, we use the wikipedia page for Heike Monogatari (English) as source text to generate KG from."
      ],
      "metadata": {
        "id": "mULEl8YRUndu"
      }
    },
    {
      "cell_type": "code",
      "source": [
        "def get_wikipedia_content(title):\n",
        "    try:\n",
        "        page = wikipedia.page(title)\n",
        "        return page.content\n",
        "    except wikipedia.exceptions.DisambiguationError as e:\n",
        "        print(f\"Disambiguation page. Options: {e.options}\")\n",
        "    except wikipedia.exceptions.PageError:\n",
        "        print(f\"Page '{title}' does not exist.\")\n",
        "    return None"
      ],
      "metadata": {
        "colab": {
          "base_uri": "https://localhost:8080/",
          "height": 17
        },
        "id": "zEMCZHc2VIMz",
        "outputId": "d69417f2-d911-4842-d0b0-be26fab741ab"
      },
      "execution_count": null,
      "outputs": [
        {
          "output_type": "display_data",
          "data": {
            "text/plain": [
              "<IPython.core.display.HTML object>"
            ],
            "text/html": [
              "\n",
              "  <style>\n",
              "    pre {\n",
              "        white-space: pre-wrap;\n",
              "    }\n",
              "  </style>\n",
              "  "
            ]
          },
          "metadata": {}
        }
      ]
    },
    {
      "cell_type": "code",
      "source": [
        "wiki_title = \"The Tale of the Heike\"\n",
        "content = get_wikipedia_content(wiki_title)\n",
        "\n",
        "if content:\n",
        "    document = Document(text=content, metadata={\"title\": wiki_title})\n",
        "    print(\n",
        "        f\"Fetched content for '{wiki_title}' (length: {len(content)} characters)\"\n",
        "    )\n",
        "else:\n",
        "    print(\"Failed to fetch Wikipedia content.\")"
      ],
      "metadata": {
        "colab": {
          "base_uri": "https://localhost:8080/",
          "height": 34
        },
        "id": "LHPtxm7FV84j",
        "outputId": "a01380f0-5a7e-4e94-9f46-4babb30b4bfa"
      },
      "execution_count": null,
      "outputs": [
        {
          "output_type": "display_data",
          "data": {
            "text/plain": [
              "<IPython.core.display.HTML object>"
            ],
            "text/html": [
              "\n",
              "  <style>\n",
              "    pre {\n",
              "        white-space: pre-wrap;\n",
              "    }\n",
              "  </style>\n",
              "  "
            ]
          },
          "metadata": {}
        },
        {
          "output_type": "stream",
          "name": "stdout",
          "text": [
            "Fetched content for 'The Tale of the Heike' (length: 32837 characters)\n"
          ]
        }
      ]
    },
    {
      "cell_type": "code",
      "source": [
        "document.text[:500]"
      ],
      "metadata": {
        "colab": {
          "base_uri": "https://localhost:8080/",
          "height": 87
        },
        "id": "irVv393fWm-7",
        "outputId": "609774d6-fda8-4fc9-e310-87cecad6abca"
      },
      "execution_count": null,
      "outputs": [
        {
          "output_type": "display_data",
          "data": {
            "text/plain": [
              "<IPython.core.display.HTML object>"
            ],
            "text/html": [
              "\n",
              "  <style>\n",
              "    pre {\n",
              "        white-space: pre-wrap;\n",
              "    }\n",
              "  </style>\n",
              "  "
            ]
          },
          "metadata": {}
        },
        {
          "output_type": "execute_result",
          "data": {
            "text/plain": [
              "'The Tale of the Heike (平家物語, Heike Monogatari) is an epic account compiled prior to 1330 of the struggle between the Taira clan and Minamoto clan for control of Japan at the end of the 12th century in the Genpei War (1180–1185).\\nIt has been translated into English at least five times. The first translation was by Arthur Lindsay Sadler, in 1918–1921. A complete translation in nearly 800 pages by Hiroshi Kitagawa & Bruce T. Tsuchida was published in 1975. It was also translated by Helen McCullough'"
            ],
            "application/vnd.google.colaboratory.intrinsic+json": {
              "type": "string"
            }
          },
          "metadata": {},
          "execution_count": 18
        }
      ]
    },
    {
      "cell_type": "markdown",
      "source": [
        "## 0.2. SimpleLLMPathExtractor\n",
        "No predefined KG schemas, LLM extract it on the fly. For visualization, the KG is stored in a Neo4j database for querying."
      ],
      "metadata": {
        "id": "tEsCaLVPZDLO"
      }
    },
    {
      "cell_type": "code",
      "source": [
        "# Neo4j DB set up\n",
        "from llama_index.graph_stores.neo4j import Neo4jPGStore\n",
        "\n",
        "username=\"neo4j\"\n",
        "password=userdata.get('PW_NEO4J')\n",
        "url=userdata.get('URI_NEO4J')\n",
        "\n",
        "graph_store = Neo4jPGStore(\n",
        "    username=username,\n",
        "    password=password,\n",
        "    url=url,\n",
        ")"
      ],
      "metadata": {
        "colab": {
          "base_uri": "https://localhost:8080/",
          "height": 17
        },
        "id": "QV3PTAGh2O6H",
        "outputId": "607a09a9-0b75-43ce-8ef7-cf02c8104d6b"
      },
      "execution_count": null,
      "outputs": [
        {
          "output_type": "display_data",
          "data": {
            "text/plain": [
              "<IPython.core.display.HTML object>"
            ],
            "text/html": [
              "\n",
              "  <style>\n",
              "    pre {\n",
              "        white-space: pre-wrap;\n",
              "    }\n",
              "  </style>\n",
              "  "
            ]
          },
          "metadata": {}
        }
      ]
    },
    {
      "cell_type": "code",
      "source": [
        "kg_extractor = SimpleLLMPathExtractor(\n",
        "    llm=llm, max_paths_per_chunk=20, num_workers=4\n",
        ")\n",
        "\n",
        "simple_index = PropertyGraphIndex.from_documents(\n",
        "    [document],\n",
        "    llm=llm,\n",
        "    embed_kg_nodes=False,\n",
        "    kg_extractors=[kg_extractor],\n",
        "    property_graph_store=graph_store,\n",
        "    show_progress=True,\n",
        ")"
      ],
      "metadata": {
        "colab": {
          "base_uri": "https://localhost:8080/",
          "height": 66,
          "referenced_widgets": [
            "07bd8f95afc442b9939560827ef788a9",
            "0bde76bb40fa42b49f5fdb25ae7682df",
            "ee9c5bcc086645409e176af3de72cbcd",
            "d6eb26894848470493c489add4f771f1",
            "92de6bca5f784832958b017542cd43a3",
            "2b22578d792e4fed9874bc131a5c5aa2",
            "e87769996fa54b36a521f6851e20edce",
            "08f9e3934a3349ada9efd23f74b1470b",
            "51be9293f9264783b95f9ca6898b34ff",
            "45f4dd388d2b4e0aba8e97c64149cc57",
            "11309179b70140aa94576e786601fc61"
          ]
        },
        "id": "k2ue6vpNZUSi",
        "outputId": "743efb3d-639e-491a-d19c-dd07c9711369"
      },
      "execution_count": null,
      "outputs": [
        {
          "output_type": "display_data",
          "data": {
            "text/plain": [
              "<IPython.core.display.HTML object>"
            ],
            "text/html": [
              "\n",
              "  <style>\n",
              "    pre {\n",
              "        white-space: pre-wrap;\n",
              "    }\n",
              "  </style>\n",
              "  "
            ]
          },
          "metadata": {}
        },
        {
          "output_type": "display_data",
          "data": {
            "text/plain": [
              "Parsing nodes:   0%|          | 0/1 [00:00<?, ?it/s]"
            ],
            "application/vnd.jupyter.widget-view+json": {
              "version_major": 2,
              "version_minor": 0,
              "model_id": "07bd8f95afc442b9939560827ef788a9"
            }
          },
          "metadata": {}
        },
        {
          "output_type": "stream",
          "name": "stderr",
          "text": [
            "Extracting paths from text: 100%|██████████| 5/5 [00:10<00:00,  2.11s/it]\n"
          ]
        }
      ]
    },
    {
      "cell_type": "markdown",
      "source": [
        "## 0.3 SchemaLLMPathExtractor\n",
        "It seems that the KG extracted without inital ontology is a mess. the definition of the schema of a KG is very subjective and in the end, KG is a tool designated to the envisionned application."
      ],
      "metadata": {
        "id": "-RspxMlklelO"
      }
    },
    {
      "cell_type": "code",
      "source": [
        "from typing import Literal\n",
        "\n",
        "# best practice to use upper-case\n",
        "entities = Literal[\"CLAN\", \"BUDDHIST_TEMPLE\", \"IMPERIAL_COURT\", \"PERSON\", \"EVENT\", \"CHAPTER\"]\n",
        "relations = Literal[\"HAS_MEMBER\", \"HAS_PARENT\", \"HAS_SPOUSE\", \"HAS_CHILD\", \"HAS_PARTICIPANT\", \"IS_PART_OF\", \"MENTIONS_PERSON\", \"DESCRIBES_EVENT\"]\n",
        "\n",
        "# define which entities can have which relations\n",
        "validation_schema = [\n",
        "    (\"CLAN\", \"HAS_MEMBER\", \"PERSON\"),\n",
        "    (\"BUDDHIST_TEMPLE\", \"HAS_MEMBER\", \"PERSON\"),\n",
        "    (\"IMPERIAL_COURT\", \"HAS_MEMBER\", \"PERSON\"),\n",
        "    (\"PERSON\", \"HAS_PARENT\", \"PERSON\"),\n",
        "    (\"PERSON\", \"HAS_SPOUSE\", \"PERSON\"),\n",
        "    (\"PERSON\", \"HAS_CHILD\", \"PERSON\"),\n",
        "    (\"EVENT\", \"HAS_PARTICIPANT\", \"PERSON\"),\n",
        "    (\"EVENT\", \"IS_PART_OF\", \"EVENT\"),\n",
        "    (\"CHAPTER\", \"MENTIONS_PERSON\", \"PERSON\"),\n",
        "    (\"CHAPTER\", \"DESCRIBES_EVENT\", \"EVENT\"),\n",
        "]\n",
        "\n",
        "entity_props = [\n",
        "    (\"FAMILY_NAME\", \"the family name of a PERSON\"),\n",
        "    (\"GIVEN_NAME\", \"the given name of a PERSON\"),\n",
        "    (\"BIRTH_DATE\", \"the birth date of a PERSON\"),\n",
        "    (\"DEATH_DATE\", \"the death date of a PERSON\"),\n",
        "    (\"DATE_OF_OCCURRENCE\", \"the date of occurrence of an EVENT\"),\n",
        "    (\"PLACE_OF_OCCURRENCE\", \"the place of occurrence of an EVENT\"),\n",
        "    (\"TITLE\", \"the title of a CHAPTER\"),\n",
        "]\n",
        "\n",
        "kg_extractor = SchemaLLMPathExtractor(\n",
        "    llm=llm,\n",
        "    possible_entities=entities,\n",
        "    possible_relations=relations,\n",
        "    possible_entity_props=entity_props,\n",
        "    kg_validation_schema=validation_schema,\n",
        "    # if false, allows for values outside of the schema\n",
        "    # useful for using the schema as a suggestion\n",
        "    strict=True,\n",
        "    num_workers=4,\n",
        ")"
      ],
      "metadata": {
        "colab": {
          "base_uri": "https://localhost:8080/",
          "height": 17
        },
        "id": "l8E-AZmcnlKN",
        "outputId": "a18f6476-d527-4481-f1ee-001244819242"
      },
      "execution_count": null,
      "outputs": [
        {
          "output_type": "display_data",
          "data": {
            "text/plain": [
              "<IPython.core.display.HTML object>"
            ],
            "text/html": [
              "\n",
              "  <style>\n",
              "    pre {\n",
              "        white-space: pre-wrap;\n",
              "    }\n",
              "  </style>\n",
              "  "
            ]
          },
          "metadata": {}
        }
      ]
    },
    {
      "cell_type": "code",
      "source": [
        "index = PropertyGraphIndex.from_documents(\n",
        "    [document],\n",
        "    llm=llm,\n",
        "    kg_extractors=[kg_extractor],\n",
        "    embed_kg_nodes=False,\n",
        "    property_graph_store=graph_store,\n",
        "    show_progress=True,\n",
        ")"
      ],
      "metadata": {
        "colab": {
          "base_uri": "https://localhost:8080/",
          "height": 405,
          "referenced_widgets": [
            "ee844e30201b4bc486c858a1e6c7c38b",
            "8ea82e2744fd4ca285f68e0d42952f07",
            "b26934c66e77473e9c66194a9a85bbf6",
            "f82203efc4704305ba638ff0fa77ec2e",
            "13c58aa9ca8946bfba0e38da80369b88",
            "cb8242767a4f485c9c5d985567d62b11",
            "be1996f46b4244538840e23febc73c2a",
            "f48ecc773c684b07afd0fa846fe99119",
            "9b2db3b7165c4231a3a25792acd9f9e4",
            "b94d77af0ec04c21920f013eaeae7a1c",
            "ccb93c36a38a4642be7d95e81ea35049"
          ]
        },
        "id": "FMJfVVo_ok7k",
        "outputId": "615f8eea-76ee-4d07-f7a9-27af4e4e9d25"
      },
      "execution_count": null,
      "outputs": [
        {
          "output_type": "display_data",
          "data": {
            "text/plain": [
              "<IPython.core.display.HTML object>"
            ],
            "text/html": [
              "\n",
              "  <style>\n",
              "    pre {\n",
              "        white-space: pre-wrap;\n",
              "    }\n",
              "  </style>\n",
              "  "
            ]
          },
          "metadata": {}
        },
        {
          "output_type": "display_data",
          "data": {
            "text/plain": [
              "Parsing nodes:   0%|          | 0/1 [00:00<?, ?it/s]"
            ],
            "application/vnd.jupyter.widget-view+json": {
              "version_major": 2,
              "version_minor": 0,
              "model_id": "ee844e30201b4bc486c858a1e6c7c38b"
            }
          },
          "metadata": {}
        },
        {
          "output_type": "stream",
          "name": "stderr",
          "text": [
            "Extracting paths from text with schema:   6%|▌         | 1/18 [00:03<00:58,  3.46s/it]"
          ]
        },
        {
          "output_type": "error",
          "ename": "KeyboardInterrupt",
          "evalue": "",
          "traceback": [
            "\u001b[0;31m---------------------------------------------------------------------------\u001b[0m",
            "\u001b[0;31mKeyboardInterrupt\u001b[0m                         Traceback (most recent call last)",
            "\u001b[0;32m<ipython-input-17-290381206a87>\u001b[0m in \u001b[0;36m<cell line: 1>\u001b[0;34m()\u001b[0m\n\u001b[0;32m----> 1\u001b[0;31m index = PropertyGraphIndex.from_documents(\n\u001b[0m\u001b[1;32m      2\u001b[0m     \u001b[0;34m[\u001b[0m\u001b[0mdocument\u001b[0m\u001b[0;34m]\u001b[0m\u001b[0;34m,\u001b[0m\u001b[0;34m\u001b[0m\u001b[0;34m\u001b[0m\u001b[0m\n\u001b[1;32m      3\u001b[0m     \u001b[0mllm\u001b[0m\u001b[0;34m=\u001b[0m\u001b[0mllm\u001b[0m\u001b[0;34m,\u001b[0m\u001b[0;34m\u001b[0m\u001b[0;34m\u001b[0m\u001b[0m\n\u001b[1;32m      4\u001b[0m     \u001b[0mkg_extractors\u001b[0m\u001b[0;34m=\u001b[0m\u001b[0;34m[\u001b[0m\u001b[0mkg_extractor\u001b[0m\u001b[0;34m]\u001b[0m\u001b[0;34m,\u001b[0m\u001b[0;34m\u001b[0m\u001b[0;34m\u001b[0m\u001b[0m\n\u001b[1;32m      5\u001b[0m     \u001b[0membed_kg_nodes\u001b[0m\u001b[0;34m=\u001b[0m\u001b[0;32mFalse\u001b[0m\u001b[0;34m,\u001b[0m\u001b[0;34m\u001b[0m\u001b[0;34m\u001b[0m\u001b[0m\n",
            "\u001b[0;32m/usr/local/lib/python3.10/dist-packages/llama_index/core/indices/base.py\u001b[0m in \u001b[0;36mfrom_documents\u001b[0;34m(cls, documents, storage_context, show_progress, callback_manager, transformations, **kwargs)\u001b[0m\n\u001b[1;32m    117\u001b[0m             )\n\u001b[1;32m    118\u001b[0m \u001b[0;34m\u001b[0m\u001b[0m\n\u001b[0;32m--> 119\u001b[0;31m             return cls(\n\u001b[0m\u001b[1;32m    120\u001b[0m                 \u001b[0mnodes\u001b[0m\u001b[0;34m=\u001b[0m\u001b[0mnodes\u001b[0m\u001b[0;34m,\u001b[0m\u001b[0;34m\u001b[0m\u001b[0;34m\u001b[0m\u001b[0m\n\u001b[1;32m    121\u001b[0m                 \u001b[0mstorage_context\u001b[0m\u001b[0;34m=\u001b[0m\u001b[0mstorage_context\u001b[0m\u001b[0;34m,\u001b[0m\u001b[0;34m\u001b[0m\u001b[0;34m\u001b[0m\u001b[0m\n",
            "\u001b[0;32m/usr/local/lib/python3.10/dist-packages/llama_index/core/indices/property_graph/base.py\u001b[0m in \u001b[0;36m__init__\u001b[0;34m(self, nodes, llm, kg_extractors, property_graph_store, vector_store, use_async, embed_model, embed_kg_nodes, callback_manager, transformations, storage_context, show_progress, **kwargs)\u001b[0m\n\u001b[1;32m    132\u001b[0m         )\n\u001b[1;32m    133\u001b[0m \u001b[0;34m\u001b[0m\u001b[0m\n\u001b[0;32m--> 134\u001b[0;31m         super().__init__(\n\u001b[0m\u001b[1;32m    135\u001b[0m             \u001b[0mnodes\u001b[0m\u001b[0;34m=\u001b[0m\u001b[0mnodes\u001b[0m\u001b[0;34m,\u001b[0m\u001b[0;34m\u001b[0m\u001b[0;34m\u001b[0m\u001b[0m\n\u001b[1;32m    136\u001b[0m             \u001b[0mcallback_manager\u001b[0m\u001b[0;34m=\u001b[0m\u001b[0mcallback_manager\u001b[0m\u001b[0;34m,\u001b[0m\u001b[0;34m\u001b[0m\u001b[0;34m\u001b[0m\u001b[0m\n",
            "\u001b[0;32m/usr/local/lib/python3.10/dist-packages/llama_index/core/indices/base.py\u001b[0m in \u001b[0;36m__init__\u001b[0;34m(self, nodes, objects, index_struct, storage_context, callback_manager, transformations, show_progress, **kwargs)\u001b[0m\n\u001b[1;32m     75\u001b[0m             \u001b[0;32mif\u001b[0m \u001b[0mindex_struct\u001b[0m \u001b[0;32mis\u001b[0m \u001b[0;32mNone\u001b[0m\u001b[0;34m:\u001b[0m\u001b[0;34m\u001b[0m\u001b[0;34m\u001b[0m\u001b[0m\n\u001b[1;32m     76\u001b[0m                 \u001b[0mnodes\u001b[0m \u001b[0;34m=\u001b[0m \u001b[0mnodes\u001b[0m \u001b[0;32mor\u001b[0m \u001b[0;34m[\u001b[0m\u001b[0;34m]\u001b[0m\u001b[0;34m\u001b[0m\u001b[0;34m\u001b[0m\u001b[0m\n\u001b[0;32m---> 77\u001b[0;31m                 index_struct = self.build_index_from_nodes(\n\u001b[0m\u001b[1;32m     78\u001b[0m                     \u001b[0mnodes\u001b[0m \u001b[0;34m+\u001b[0m \u001b[0mobjects\u001b[0m\u001b[0;34m,\u001b[0m  \u001b[0;31m# type: ignore\u001b[0m\u001b[0;34m\u001b[0m\u001b[0;34m\u001b[0m\u001b[0m\n\u001b[1;32m     79\u001b[0m                     \u001b[0;34m**\u001b[0m\u001b[0mkwargs\u001b[0m\u001b[0;34m,\u001b[0m  \u001b[0;31m# type: ignore\u001b[0m\u001b[0;34m\u001b[0m\u001b[0;34m\u001b[0m\u001b[0m\n",
            "\u001b[0;32m/usr/local/lib/python3.10/dist-packages/llama_index/core/indices/base.py\u001b[0m in \u001b[0;36mbuild_index_from_nodes\u001b[0;34m(self, nodes, **build_kwargs)\u001b[0m\n\u001b[1;32m    183\u001b[0m         \u001b[0;34m\"\"\"Build the index from nodes.\"\"\"\u001b[0m\u001b[0;34m\u001b[0m\u001b[0;34m\u001b[0m\u001b[0m\n\u001b[1;32m    184\u001b[0m         \u001b[0mself\u001b[0m\u001b[0;34m.\u001b[0m\u001b[0m_docstore\u001b[0m\u001b[0;34m.\u001b[0m\u001b[0madd_documents\u001b[0m\u001b[0;34m(\u001b[0m\u001b[0mnodes\u001b[0m\u001b[0;34m,\u001b[0m \u001b[0mallow_update\u001b[0m\u001b[0;34m=\u001b[0m\u001b[0;32mTrue\u001b[0m\u001b[0;34m)\u001b[0m\u001b[0;34m\u001b[0m\u001b[0;34m\u001b[0m\u001b[0m\n\u001b[0;32m--> 185\u001b[0;31m         \u001b[0;32mreturn\u001b[0m \u001b[0mself\u001b[0m\u001b[0;34m.\u001b[0m\u001b[0m_build_index_from_nodes\u001b[0m\u001b[0;34m(\u001b[0m\u001b[0mnodes\u001b[0m\u001b[0;34m,\u001b[0m \u001b[0;34m**\u001b[0m\u001b[0mbuild_kwargs\u001b[0m\u001b[0;34m)\u001b[0m\u001b[0;34m\u001b[0m\u001b[0;34m\u001b[0m\u001b[0m\n\u001b[0m\u001b[1;32m    186\u001b[0m \u001b[0;34m\u001b[0m\u001b[0m\n\u001b[1;32m    187\u001b[0m     \u001b[0;34m@\u001b[0m\u001b[0mabstractmethod\u001b[0m\u001b[0;34m\u001b[0m\u001b[0;34m\u001b[0m\u001b[0m\n",
            "\u001b[0;32m/usr/local/lib/python3.10/dist-packages/llama_index/core/indices/property_graph/base.py\u001b[0m in \u001b[0;36m_build_index_from_nodes\u001b[0;34m(self, nodes, **build_kwargs)\u001b[0m\n\u001b[1;32m    332\u001b[0m     ) -> IndexLPG:\n\u001b[1;32m    333\u001b[0m         \u001b[0;34m\"\"\"Build index from nodes.\"\"\"\u001b[0m\u001b[0;34m\u001b[0m\u001b[0;34m\u001b[0m\u001b[0m\n\u001b[0;32m--> 334\u001b[0;31m         \u001b[0mnodes\u001b[0m \u001b[0;34m=\u001b[0m \u001b[0mself\u001b[0m\u001b[0;34m.\u001b[0m\u001b[0m_insert_nodes\u001b[0m\u001b[0;34m(\u001b[0m\u001b[0mnodes\u001b[0m \u001b[0;32mor\u001b[0m \u001b[0;34m[\u001b[0m\u001b[0;34m]\u001b[0m\u001b[0;34m)\u001b[0m\u001b[0;34m\u001b[0m\u001b[0;34m\u001b[0m\u001b[0m\n\u001b[0m\u001b[1;32m    335\u001b[0m \u001b[0;34m\u001b[0m\u001b[0m\n\u001b[1;32m    336\u001b[0m         \u001b[0;31m# this isn't really used or needed\u001b[0m\u001b[0;34m\u001b[0m\u001b[0;34m\u001b[0m\u001b[0m\n",
            "\u001b[0;32m/usr/local/lib/python3.10/dist-packages/llama_index/core/indices/property_graph/base.py\u001b[0m in \u001b[0;36m_insert_nodes\u001b[0;34m(self, nodes)\u001b[0m\n\u001b[1;32m    198\u001b[0m         \u001b[0;31m# run transformations on nodes to extract triplets\u001b[0m\u001b[0;34m\u001b[0m\u001b[0;34m\u001b[0m\u001b[0m\n\u001b[1;32m    199\u001b[0m         \u001b[0;32mif\u001b[0m \u001b[0mself\u001b[0m\u001b[0;34m.\u001b[0m\u001b[0m_use_async\u001b[0m\u001b[0;34m:\u001b[0m\u001b[0;34m\u001b[0m\u001b[0;34m\u001b[0m\u001b[0m\n\u001b[0;32m--> 200\u001b[0;31m             nodes = asyncio.run(\n\u001b[0m\u001b[1;32m    201\u001b[0m                 arun_transformations(\n\u001b[1;32m    202\u001b[0m                     \u001b[0mnodes\u001b[0m\u001b[0;34m,\u001b[0m \u001b[0mself\u001b[0m\u001b[0;34m.\u001b[0m\u001b[0m_kg_extractors\u001b[0m\u001b[0;34m,\u001b[0m \u001b[0mshow_progress\u001b[0m\u001b[0;34m=\u001b[0m\u001b[0mself\u001b[0m\u001b[0;34m.\u001b[0m\u001b[0m_show_progress\u001b[0m\u001b[0;34m\u001b[0m\u001b[0;34m\u001b[0m\u001b[0m\n",
            "\u001b[0;32m/usr/local/lib/python3.10/dist-packages/nest_asyncio.py\u001b[0m in \u001b[0;36mrun\u001b[0;34m(main, debug)\u001b[0m\n\u001b[1;32m     28\u001b[0m         \u001b[0mtask\u001b[0m \u001b[0;34m=\u001b[0m \u001b[0masyncio\u001b[0m\u001b[0;34m.\u001b[0m\u001b[0mensure_future\u001b[0m\u001b[0;34m(\u001b[0m\u001b[0mmain\u001b[0m\u001b[0;34m)\u001b[0m\u001b[0;34m\u001b[0m\u001b[0;34m\u001b[0m\u001b[0m\n\u001b[1;32m     29\u001b[0m         \u001b[0;32mtry\u001b[0m\u001b[0;34m:\u001b[0m\u001b[0;34m\u001b[0m\u001b[0;34m\u001b[0m\u001b[0m\n\u001b[0;32m---> 30\u001b[0;31m             \u001b[0;32mreturn\u001b[0m \u001b[0mloop\u001b[0m\u001b[0;34m.\u001b[0m\u001b[0mrun_until_complete\u001b[0m\u001b[0;34m(\u001b[0m\u001b[0mtask\u001b[0m\u001b[0;34m)\u001b[0m\u001b[0;34m\u001b[0m\u001b[0;34m\u001b[0m\u001b[0m\n\u001b[0m\u001b[1;32m     31\u001b[0m         \u001b[0;32mfinally\u001b[0m\u001b[0;34m:\u001b[0m\u001b[0;34m\u001b[0m\u001b[0;34m\u001b[0m\u001b[0m\n\u001b[1;32m     32\u001b[0m             \u001b[0;32mif\u001b[0m \u001b[0;32mnot\u001b[0m \u001b[0mtask\u001b[0m\u001b[0;34m.\u001b[0m\u001b[0mdone\u001b[0m\u001b[0;34m(\u001b[0m\u001b[0;34m)\u001b[0m\u001b[0;34m:\u001b[0m\u001b[0;34m\u001b[0m\u001b[0;34m\u001b[0m\u001b[0m\n",
            "\u001b[0;32m/usr/local/lib/python3.10/dist-packages/nest_asyncio.py\u001b[0m in \u001b[0;36mrun_until_complete\u001b[0;34m(self, future)\u001b[0m\n\u001b[1;32m     90\u001b[0m                 \u001b[0mf\u001b[0m\u001b[0;34m.\u001b[0m\u001b[0m_log_destroy_pending\u001b[0m \u001b[0;34m=\u001b[0m \u001b[0;32mFalse\u001b[0m\u001b[0;34m\u001b[0m\u001b[0;34m\u001b[0m\u001b[0m\n\u001b[1;32m     91\u001b[0m             \u001b[0;32mwhile\u001b[0m \u001b[0;32mnot\u001b[0m \u001b[0mf\u001b[0m\u001b[0;34m.\u001b[0m\u001b[0mdone\u001b[0m\u001b[0;34m(\u001b[0m\u001b[0;34m)\u001b[0m\u001b[0;34m:\u001b[0m\u001b[0;34m\u001b[0m\u001b[0;34m\u001b[0m\u001b[0m\n\u001b[0;32m---> 92\u001b[0;31m                 \u001b[0mself\u001b[0m\u001b[0;34m.\u001b[0m\u001b[0m_run_once\u001b[0m\u001b[0;34m(\u001b[0m\u001b[0;34m)\u001b[0m\u001b[0;34m\u001b[0m\u001b[0;34m\u001b[0m\u001b[0m\n\u001b[0m\u001b[1;32m     93\u001b[0m                 \u001b[0;32mif\u001b[0m \u001b[0mself\u001b[0m\u001b[0;34m.\u001b[0m\u001b[0m_stopping\u001b[0m\u001b[0;34m:\u001b[0m\u001b[0;34m\u001b[0m\u001b[0;34m\u001b[0m\u001b[0m\n\u001b[1;32m     94\u001b[0m                     \u001b[0;32mbreak\u001b[0m\u001b[0;34m\u001b[0m\u001b[0;34m\u001b[0m\u001b[0m\n",
            "\u001b[0;32m/usr/local/lib/python3.10/dist-packages/nest_asyncio.py\u001b[0m in \u001b[0;36m_run_once\u001b[0;34m(self)\u001b[0m\n\u001b[1;32m    113\u001b[0m                 scheduled[0]._when - self.time(), 0), 86400) if scheduled\n\u001b[1;32m    114\u001b[0m             else None)\n\u001b[0;32m--> 115\u001b[0;31m         \u001b[0mevent_list\u001b[0m \u001b[0;34m=\u001b[0m \u001b[0mself\u001b[0m\u001b[0;34m.\u001b[0m\u001b[0m_selector\u001b[0m\u001b[0;34m.\u001b[0m\u001b[0mselect\u001b[0m\u001b[0;34m(\u001b[0m\u001b[0mtimeout\u001b[0m\u001b[0;34m)\u001b[0m\u001b[0;34m\u001b[0m\u001b[0;34m\u001b[0m\u001b[0m\n\u001b[0m\u001b[1;32m    116\u001b[0m         \u001b[0mself\u001b[0m\u001b[0;34m.\u001b[0m\u001b[0m_process_events\u001b[0m\u001b[0;34m(\u001b[0m\u001b[0mevent_list\u001b[0m\u001b[0;34m)\u001b[0m\u001b[0;34m\u001b[0m\u001b[0;34m\u001b[0m\u001b[0m\n\u001b[1;32m    117\u001b[0m \u001b[0;34m\u001b[0m\u001b[0m\n",
            "\u001b[0;32m/usr/lib/python3.10/selectors.py\u001b[0m in \u001b[0;36mselect\u001b[0;34m(self, timeout)\u001b[0m\n\u001b[1;32m    467\u001b[0m             \u001b[0mready\u001b[0m \u001b[0;34m=\u001b[0m \u001b[0;34m[\u001b[0m\u001b[0;34m]\u001b[0m\u001b[0;34m\u001b[0m\u001b[0;34m\u001b[0m\u001b[0m\n\u001b[1;32m    468\u001b[0m             \u001b[0;32mtry\u001b[0m\u001b[0;34m:\u001b[0m\u001b[0;34m\u001b[0m\u001b[0;34m\u001b[0m\u001b[0m\n\u001b[0;32m--> 469\u001b[0;31m                 \u001b[0mfd_event_list\u001b[0m \u001b[0;34m=\u001b[0m \u001b[0mself\u001b[0m\u001b[0;34m.\u001b[0m\u001b[0m_selector\u001b[0m\u001b[0;34m.\u001b[0m\u001b[0mpoll\u001b[0m\u001b[0;34m(\u001b[0m\u001b[0mtimeout\u001b[0m\u001b[0;34m,\u001b[0m \u001b[0mmax_ev\u001b[0m\u001b[0;34m)\u001b[0m\u001b[0;34m\u001b[0m\u001b[0;34m\u001b[0m\u001b[0m\n\u001b[0m\u001b[1;32m    470\u001b[0m             \u001b[0;32mexcept\u001b[0m \u001b[0mInterruptedError\u001b[0m\u001b[0;34m:\u001b[0m\u001b[0;34m\u001b[0m\u001b[0;34m\u001b[0m\u001b[0m\n\u001b[1;32m    471\u001b[0m                 \u001b[0;32mreturn\u001b[0m \u001b[0mready\u001b[0m\u001b[0;34m\u001b[0m\u001b[0;34m\u001b[0m\u001b[0m\n",
            "\u001b[0;31mKeyboardInterrupt\u001b[0m: "
          ]
        }
      ]
    },
    {
      "cell_type": "markdown",
      "source": [
        "# 1. Experiments\n",
        "In this section, we will extract KGs from text based documents, explore them in Neo4j DB and try to evaluate them with a systematic approach."
      ],
      "metadata": {
        "id": "qQiFtZZTd4-k"
      }
    },
    {
      "cell_type": "markdown",
      "source": [
        "## 1.1. Simple interpersonal relationship KG from a wikipedia page\n",
        "For starter, we extract a KG capturing family relationships from the wikipedia page of *Heike Monogatari* character list and validate it against existing genealogies for Taira and Minamoto."
      ],
      "metadata": {
        "id": "6T0NDyI-efQj"
      }
    },
    {
      "cell_type": "code",
      "source": [
        "def get_wikipedia_content(title):\n",
        "    try:\n",
        "        page = wikipedia.page(title)\n",
        "        return page.content\n",
        "    except wikipedia.exceptions.DisambiguationError as e:\n",
        "        print(f\"Disambiguation page. Options: {e.options}\")\n",
        "    except wikipedia.exceptions.PageError:\n",
        "        print(f\"Page '{title}' does not exist.\")\n",
        "    return None"
      ],
      "metadata": {
        "id": "U-f3CRcvftlk"
      },
      "execution_count": null,
      "outputs": []
    },
    {
      "cell_type": "code",
      "source": [
        "wiki_title = \"List of The Tale of the Heike characters\"\n",
        "content = get_wikipedia_content(wiki_title)\n",
        "\n",
        "if content:\n",
        "    document = Document(text=content, metadata={\"title\": wiki_title})\n",
        "    print(\n",
        "        f\"Fetched content for '{wiki_title}' (length: {len(content)} characters)\"\n",
        "    )\n",
        "else:\n",
        "    print(\"Failed to fetch Wikipedia content.\")"
      ],
      "metadata": {
        "colab": {
          "base_uri": "https://localhost:8080/",
          "height": 34
        },
        "id": "n0zmz3hIcEy5",
        "outputId": "79c28277-7e7a-4c1f-ac29-88469e1b4b0e"
      },
      "execution_count": null,
      "outputs": [
        {
          "output_type": "display_data",
          "data": {
            "text/plain": [
              "<IPython.core.display.HTML object>"
            ],
            "text/html": [
              "\n",
              "  <style>\n",
              "    pre {\n",
              "        white-space: pre-wrap;\n",
              "    }\n",
              "  </style>\n",
              "  "
            ]
          },
          "metadata": {}
        },
        {
          "output_type": "stream",
          "name": "stdout",
          "text": [
            "Fetched content for 'List of The Tale of the Heike characters' (length: 10413 characters)\n"
          ]
        }
      ]
    },
    {
      "cell_type": "code",
      "source": [
        "document.text[:500]"
      ],
      "metadata": {
        "colab": {
          "base_uri": "https://localhost:8080/",
          "height": 87
        },
        "id": "kV3oCiJfct5u",
        "outputId": "bdd0ea18-bf76-4ea2-93ea-ab633394217b"
      },
      "execution_count": null,
      "outputs": [
        {
          "output_type": "display_data",
          "data": {
            "text/plain": [
              "<IPython.core.display.HTML object>"
            ],
            "text/html": [
              "\n",
              "  <style>\n",
              "    pre {\n",
              "        white-space: pre-wrap;\n",
              "    }\n",
              "  </style>\n",
              "  "
            ]
          },
          "metadata": {}
        },
        {
          "output_type": "execute_result",
          "data": {
            "text/plain": [
              "'This is a list of the characters that appear in The Tale of the Heike.\\n\\n\\n== A ==\\nArio, a loyal page boy in the service of Shunkan, who looked after him since he was young.  He sought Shunkan out at Kikai-ga-shima and looked after him during his exile.\\nTaira no Atsumori, a young warrior known for his death in single combat at the hands of Kumagae no Jirô Naozane.  He was well known for his skill with the flute.\\n\\n\\n== B ==\\nSaito Musashibo Benkei, a Sohei who served Minamoto no Yoshitsune.  He is kn'"
            ],
            "application/vnd.google.colaboratory.intrinsic+json": {
              "type": "string"
            }
          },
          "metadata": {},
          "execution_count": 25
        }
      ]
    },
    {
      "cell_type": "code",
      "source": [
        "entities = Literal[\"PERSON\", \"CLAN\"]\n",
        "relations = Literal[\"HAS_MEMBER\", \"HAS_PARENT\", \"HAS_SPOUSE\", \"HAS_SIBLING\", \"HAS_CHILD\"]\n",
        "\n",
        "validation_schema = [\n",
        "    (\"CLAN\", \"HAS_MEMBER\", \"PERSON\"),\n",
        "    (\"PERSON\", \"HAS_PARENT\", \"PERSON\"),\n",
        "    (\"PERSON\", \"HAS_SPOUSE\", \"PERSON\"),\n",
        "    (\"PERSON\", \"HAS_SIBLING\", \"PERSON\"),\n",
        "    (\"PERSON\", \"HAS_CHILD\", \"PERSON\"),\n",
        "]\n",
        "\n",
        "entity_props = [\n",
        "    (\"FAMILY_NAME\", \"the family name of a PERSON\"),\n",
        "    (\"GIVEN_NAME\", \"the given name of a PERSON\"),\n",
        "]\n",
        "\n",
        "kg_extractor = SchemaLLMPathExtractor(\n",
        "    llm=llm,\n",
        "    possible_entities=entities,\n",
        "    possible_relations=relations,\n",
        "    possible_entity_props=entity_props,\n",
        "    kg_validation_schema=validation_schema,\n",
        "    strict=True,\n",
        "    num_workers=4,\n",
        "    max_triplets_per_chunk=20,\n",
        ")\n",
        "\n",
        "index = PropertyGraphIndex.from_documents(\n",
        "    [document],\n",
        "    llm=llm,\n",
        "    kg_extractors=[kg_extractor],\n",
        "    embed_kg_nodes=False,\n",
        "    property_graph_store=graph_store,\n",
        "    show_progress=True,\n",
        ")"
      ],
      "metadata": {
        "colab": {
          "base_uri": "https://localhost:8080/",
          "height": 1000,
          "referenced_widgets": [
            "5253eec390bd4b5ab50af554668add29",
            "c7d9c3ef0f294d769d81f164e1a45af2",
            "b0e4a6e72782460ab3483f112c6785dc",
            "42e4f79b1a904fc7b858bea3027a4345",
            "abfdfde714b54ac79ace9bbb75b044bb",
            "1be2df902f2b41a49d0940ca221bc86e",
            "e15a6aa595a84535b38e29dc8b35607d",
            "2c2b616efe5d4dbd8e85862a46770a84",
            "bcf25984d3c148a789c496191c0a468d",
            "c152e791848d4191a2ab8b0950dcc5f9",
            "c49b453b3e6b4fdfb188883f4d0bff42"
          ]
        },
        "collapsed": true,
        "id": "KUI2Dgg8dO-7",
        "outputId": "4321671a-7f52-4d29-c86f-248644adc955"
      },
      "execution_count": null,
      "outputs": [
        {
          "output_type": "display_data",
          "data": {
            "text/plain": [
              "<IPython.core.display.HTML object>"
            ],
            "text/html": [
              "\n",
              "  <style>\n",
              "    pre {\n",
              "        white-space: pre-wrap;\n",
              "    }\n",
              "  </style>\n",
              "  "
            ]
          },
          "metadata": {}
        },
        {
          "output_type": "display_data",
          "data": {
            "text/plain": [
              "Parsing nodes:   0%|          | 0/1 [00:00<?, ?it/s]"
            ],
            "application/vnd.jupyter.widget-view+json": {
              "version_major": 2,
              "version_minor": 0,
              "model_id": "5253eec390bd4b5ab50af554668add29"
            }
          },
          "metadata": {}
        },
        {
          "output_type": "stream",
          "name": "stderr",
          "text": [
            "Extracting paths from text with schema: 100%|██████████| 18/18 [00:52<00:00,  2.90s/it]\n",
            "WARNING:neo4j.notifications:Received notification from DBMS server: {severity: WARNING} {code: Neo.ClientNotification.Statement.UnknownLabelWarning} {category: UNRECOGNIZED} {title: The provided label is not in the database.} {description: One of the labels in your query is not available in the database, make sure you didn't misspell it or that the label is available when you run this statement in your application (the missing label name is: __Node__)} {position: line: 1, column: 11, offset: 10} for query: \"MATCH (e: __Node__) WHERE e.id IS NOT NULL AND e.id in $ids \\n        WITH e\\n        RETURN e.id AS name,\\n               [l in labels(e) WHERE l <> '__Entity__' | l][0] AS type,\\n               e{.* , embedding: Null, id: Null} AS properties\\n        \"\n",
            "WARNING:neo4j.notifications:Received notification from DBMS server: {severity: WARNING} {code: Neo.ClientNotification.Statement.UnknownPropertyKeyWarning} {category: UNRECOGNIZED} {title: The provided property key is not in the database} {description: One of the property names in your query is not available in the database, make sure you didn't misspell it or that the label is available when you run this statement in your application (the missing property name is: id)} {position: line: 1, column: 29, offset: 28} for query: \"MATCH (e: __Node__) WHERE e.id IS NOT NULL AND e.id in $ids \\n        WITH e\\n        RETURN e.id AS name,\\n               [l in labels(e) WHERE l <> '__Entity__' | l][0] AS type,\\n               e{.* , embedding: Null, id: Null} AS properties\\n        \"\n",
            "WARNING:neo4j.notifications:Received notification from DBMS server: {severity: WARNING} {code: Neo.ClientNotification.Statement.UnknownPropertyKeyWarning} {category: UNRECOGNIZED} {title: The provided property key is not in the database} {description: One of the property names in your query is not available in the database, make sure you didn't misspell it or that the label is available when you run this statement in your application (the missing property name is: id)} {position: line: 1, column: 50, offset: 49} for query: \"MATCH (e: __Node__) WHERE e.id IS NOT NULL AND e.id in $ids \\n        WITH e\\n        RETURN e.id AS name,\\n               [l in labels(e) WHERE l <> '__Entity__' | l][0] AS type,\\n               e{.* , embedding: Null, id: Null} AS properties\\n        \"\n",
            "WARNING:neo4j.notifications:Received notification from DBMS server: {severity: WARNING} {code: Neo.ClientNotification.Statement.UnknownPropertyKeyWarning} {category: UNRECOGNIZED} {title: The provided property key is not in the database} {description: One of the property names in your query is not available in the database, make sure you didn't misspell it or that the label is available when you run this statement in your application (the missing property name is: id)} {position: line: 3, column: 18, offset: 93} for query: \"MATCH (e: __Node__) WHERE e.id IS NOT NULL AND e.id in $ids \\n        WITH e\\n        RETURN e.id AS name,\\n               [l in labels(e) WHERE l <> '__Entity__' | l][0] AS type,\\n               e{.* , embedding: Null, id: Null} AS properties\\n        \"\n",
            "WARNING:neo4j.notifications:Received notification from DBMS server: {severity: WARNING} {code: Neo.ClientNotification.Statement.UnknownLabelWarning} {category: UNRECOGNIZED} {title: The provided label is not in the database.} {description: One of the labels in your query is not available in the database, make sure you didn't misspell it or that the label is available when you run this statement in your application (the missing label name is: __Node__)} {position: line: 1, column: 11, offset: 10} for query: \"MATCH (e: __Node__) WHERE e.id IS NOT NULL AND e.id in $ids \\n        WITH e\\n        RETURN e.id AS name,\\n               [l in labels(e) WHERE l <> '__Entity__' | l][0] AS type,\\n               e{.* , embedding: Null, id: Null} AS properties\\n        \"\n",
            "WARNING:neo4j.notifications:Received notification from DBMS server: {severity: WARNING} {code: Neo.ClientNotification.Statement.UnknownPropertyKeyWarning} {category: UNRECOGNIZED} {title: The provided property key is not in the database} {description: One of the property names in your query is not available in the database, make sure you didn't misspell it or that the label is available when you run this statement in your application (the missing property name is: id)} {position: line: 1, column: 29, offset: 28} for query: \"MATCH (e: __Node__) WHERE e.id IS NOT NULL AND e.id in $ids \\n        WITH e\\n        RETURN e.id AS name,\\n               [l in labels(e) WHERE l <> '__Entity__' | l][0] AS type,\\n               e{.* , embedding: Null, id: Null} AS properties\\n        \"\n",
            "WARNING:neo4j.notifications:Received notification from DBMS server: {severity: WARNING} {code: Neo.ClientNotification.Statement.UnknownPropertyKeyWarning} {category: UNRECOGNIZED} {title: The provided property key is not in the database} {description: One of the property names in your query is not available in the database, make sure you didn't misspell it or that the label is available when you run this statement in your application (the missing property name is: id)} {position: line: 1, column: 50, offset: 49} for query: \"MATCH (e: __Node__) WHERE e.id IS NOT NULL AND e.id in $ids \\n        WITH e\\n        RETURN e.id AS name,\\n               [l in labels(e) WHERE l <> '__Entity__' | l][0] AS type,\\n               e{.* , embedding: Null, id: Null} AS properties\\n        \"\n",
            "WARNING:neo4j.notifications:Received notification from DBMS server: {severity: WARNING} {code: Neo.ClientNotification.Statement.UnknownPropertyKeyWarning} {category: UNRECOGNIZED} {title: The provided property key is not in the database} {description: One of the property names in your query is not available in the database, make sure you didn't misspell it or that the label is available when you run this statement in your application (the missing property name is: id)} {position: line: 3, column: 18, offset: 93} for query: \"MATCH (e: __Node__) WHERE e.id IS NOT NULL AND e.id in $ids \\n        WITH e\\n        RETURN e.id AS name,\\n               [l in labels(e) WHERE l <> '__Entity__' | l][0] AS type,\\n               e{.* , embedding: Null, id: Null} AS properties\\n        \"\n"
          ]
        }
      ]
    },
    {
      "cell_type": "markdown",
      "source": [
        "The result looks like this (only a subgraph of the whole KG):\n",
        "\n",
        "![Screenshot 2024-10-23 at 13.11.20.png](data:image/png;base64,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)"
      ],
      "metadata": {
        "id": "m86aNPYpkprL"
      }
    },
    {
      "cell_type": "markdown",
      "source": [
        "The brown nodes represent person and the pink ones are text chunks which we don't need in our application. In order to delete the nodes typed \"Chunk\" and their associated relations, run this Cypher query in your Aura terminal:\n",
        "\n",
        "```\n",
        "MATCH (n:Chunk)\n",
        "DETACH DELETE n\n",
        "```"
      ],
      "metadata": {
        "id": "qHDspA08lXFw"
      }
    },
    {
      "cell_type": "markdown",
      "source": [
        "Another Issue in terms of format of rerepresenting the graph is that a node has multiple types. for example the node for *Kiyomori Taira* has 3 types: PERSON, \\_\\_Entity\\_\\_ and \\_\\_Node\\_\\_.\n",
        "Get rid of this by typing following command:\n",
        "```\n",
        "MATCH (n)\n",
        "WHERE n:__Node__ OR n:__Entity__\n",
        "REMOVE n:__Node__:__Entity__;\n",
        "```"
      ],
      "metadata": {
        "id": "KfdH3yhyoB9o"
      }
    },
    {
      "cell_type": "markdown",
      "source": [
        "We also spotted that CLAN typed nodes have PERSON type label, simple search for CLAN in explore tab in your Aura workspace and edit it out manually."
      ],
      "metadata": {
        "id": "s9P-oHLopfIv"
      }
    },
    {
      "cell_type": "markdown",
      "source": [
        "## 1.2. Create Family Tree from simple KG"
      ],
      "metadata": {
        "id": "LD3QNfwj2o6W"
      }
    },
    {
      "cell_type": "code",
      "source": [
        "from neo4j import GraphDatabase\n",
        "from treelib import Tree\n",
        "\n",
        "def create_family_tree(uri, username, password):\n",
        "    # Connect to Neo4j\n",
        "    driver = GraphDatabase.driver(uri, auth=(username, password))\n",
        "\n",
        "    # Create a tree\n",
        "    tree = Tree()\n",
        "\n",
        "    # Query to get all relationships\n",
        "    # Start from root (person without parents)\n",
        "    query = \"\"\"\n",
        "    MATCH (root:PERSON)\n",
        "    WHERE NOT (root)-[:HAS_PARENT]->()\n",
        "    OPTIONAL MATCH path = (root)<-[:HAS_PARENT*]-(descendant:PERSON)\n",
        "    RETURN root.name as root_name,\n",
        "           COLLECT(DISTINCT [node in nodes(path) | node.name]) as paths\n",
        "    \"\"\"\n",
        "\n",
        "    with driver.session() as session:\n",
        "        result = session.run(query)\n",
        "        records = list(result)\n",
        "\n",
        "        for record in records:\n",
        "            root_name = record[\"root_name\"]\n",
        "            paths = record[\"paths\"]\n",
        "\n",
        "            # Add root node\n",
        "            tree.create_node(root_name, root_name)\n",
        "\n",
        "            # Add all paths from root to descendants\n",
        "            for path in paths:\n",
        "                if path:  # Skip empty paths\n",
        "                    for i in range(len(path)-1):\n",
        "                        parent = path[i]\n",
        "                        child = path[i+1]\n",
        "                        if not tree.contains(child):\n",
        "                            tree.create_node(child, child, parent=parent)\n",
        "\n",
        "    driver.close()\n",
        "    return tree\n",
        "\n",
        "# Create and display the tree\n",
        "family_tree = create_family_tree(url, username, password)\n",
        "family_tree.show()"
      ],
      "metadata": {
        "colab": {
          "base_uri": "https://localhost:8080/",
          "height": 339
        },
        "collapsed": true,
        "id": "baNSrBNmlHDj",
        "outputId": "585e3538-e178-47d3-fa35-a3fcf9665a31"
      },
      "execution_count": null,
      "outputs": [
        {
          "output_type": "display_data",
          "data": {
            "text/plain": [
              "<IPython.core.display.HTML object>"
            ],
            "text/html": [
              "\n",
              "  <style>\n",
              "    pre {\n",
              "        white-space: pre-wrap;\n",
              "    }\n",
              "  </style>\n",
              "  "
            ]
          },
          "metadata": {}
        },
        {
          "output_type": "error",
          "ename": "AuthError",
          "evalue": "{code: Neo.ClientError.Security.Unauthorized} {message: The client is unauthorized due to authentication failure.}",
          "traceback": [
            "\u001b[0;31m---------------------------------------------------------------------------\u001b[0m",
            "\u001b[0;31mAuthError\u001b[0m                                 Traceback (most recent call last)",
            "\u001b[0;32m<ipython-input-35-0e5d00626538>\u001b[0m in \u001b[0;36m<cell line: 45>\u001b[0;34m()\u001b[0m\n\u001b[1;32m     43\u001b[0m \u001b[0;34m\u001b[0m\u001b[0m\n\u001b[1;32m     44\u001b[0m \u001b[0;31m# Create and display the tree\u001b[0m\u001b[0;34m\u001b[0m\u001b[0;34m\u001b[0m\u001b[0m\n\u001b[0;32m---> 45\u001b[0;31m \u001b[0mfamily_tree\u001b[0m \u001b[0;34m=\u001b[0m \u001b[0mcreate_family_tree\u001b[0m\u001b[0;34m(\u001b[0m\u001b[0murl\u001b[0m\u001b[0;34m,\u001b[0m \u001b[0musername\u001b[0m\u001b[0;34m,\u001b[0m \u001b[0mpassword\u001b[0m\u001b[0;34m)\u001b[0m\u001b[0;34m\u001b[0m\u001b[0;34m\u001b[0m\u001b[0m\n\u001b[0m\u001b[1;32m     46\u001b[0m \u001b[0mfamily_tree\u001b[0m\u001b[0;34m.\u001b[0m\u001b[0mshow\u001b[0m\u001b[0;34m(\u001b[0m\u001b[0;34m)\u001b[0m\u001b[0;34m\u001b[0m\u001b[0;34m\u001b[0m\u001b[0m\n",
            "\u001b[0;32m<ipython-input-35-0e5d00626538>\u001b[0m in \u001b[0;36mcreate_family_tree\u001b[0;34m(uri, username, password)\u001b[0m\n\u001b[1;32m     20\u001b[0m \u001b[0;34m\u001b[0m\u001b[0m\n\u001b[1;32m     21\u001b[0m     \u001b[0;32mwith\u001b[0m \u001b[0mdriver\u001b[0m\u001b[0;34m.\u001b[0m\u001b[0msession\u001b[0m\u001b[0;34m(\u001b[0m\u001b[0;34m)\u001b[0m \u001b[0;32mas\u001b[0m \u001b[0msession\u001b[0m\u001b[0;34m:\u001b[0m\u001b[0;34m\u001b[0m\u001b[0;34m\u001b[0m\u001b[0m\n\u001b[0;32m---> 22\u001b[0;31m         \u001b[0mresult\u001b[0m \u001b[0;34m=\u001b[0m \u001b[0msession\u001b[0m\u001b[0;34m.\u001b[0m\u001b[0mrun\u001b[0m\u001b[0;34m(\u001b[0m\u001b[0mquery\u001b[0m\u001b[0;34m)\u001b[0m\u001b[0;34m\u001b[0m\u001b[0;34m\u001b[0m\u001b[0m\n\u001b[0m\u001b[1;32m     23\u001b[0m         \u001b[0mrecords\u001b[0m \u001b[0;34m=\u001b[0m \u001b[0mlist\u001b[0m\u001b[0;34m(\u001b[0m\u001b[0mresult\u001b[0m\u001b[0;34m)\u001b[0m\u001b[0;34m\u001b[0m\u001b[0;34m\u001b[0m\u001b[0m\n\u001b[1;32m     24\u001b[0m \u001b[0;34m\u001b[0m\u001b[0m\n",
            "\u001b[0;32m/usr/local/lib/python3.10/dist-packages/neo4j/_sync/work/session.py\u001b[0m in \u001b[0;36mrun\u001b[0;34m(self, query, parameters, **kwargs)\u001b[0m\n\u001b[1;32m    304\u001b[0m \u001b[0;34m\u001b[0m\u001b[0m\n\u001b[1;32m    305\u001b[0m         \u001b[0;32mif\u001b[0m \u001b[0;32mnot\u001b[0m \u001b[0mself\u001b[0m\u001b[0;34m.\u001b[0m\u001b[0m_connection\u001b[0m\u001b[0;34m:\u001b[0m\u001b[0;34m\u001b[0m\u001b[0;34m\u001b[0m\u001b[0m\n\u001b[0;32m--> 306\u001b[0;31m             \u001b[0mself\u001b[0m\u001b[0;34m.\u001b[0m\u001b[0m_connect\u001b[0m\u001b[0;34m(\u001b[0m\u001b[0mself\u001b[0m\u001b[0;34m.\u001b[0m\u001b[0m_config\u001b[0m\u001b[0;34m.\u001b[0m\u001b[0mdefault_access_mode\u001b[0m\u001b[0;34m)\u001b[0m\u001b[0;34m\u001b[0m\u001b[0;34m\u001b[0m\u001b[0m\n\u001b[0m\u001b[1;32m    307\u001b[0m             \u001b[0;32massert\u001b[0m \u001b[0mself\u001b[0m\u001b[0;34m.\u001b[0m\u001b[0m_connection\u001b[0m \u001b[0;32mis\u001b[0m \u001b[0;32mnot\u001b[0m \u001b[0;32mNone\u001b[0m\u001b[0;34m\u001b[0m\u001b[0;34m\u001b[0m\u001b[0m\n\u001b[1;32m    308\u001b[0m         \u001b[0mcx\u001b[0m \u001b[0;34m=\u001b[0m \u001b[0mself\u001b[0m\u001b[0;34m.\u001b[0m\u001b[0m_connection\u001b[0m\u001b[0;34m\u001b[0m\u001b[0;34m\u001b[0m\u001b[0m\n",
            "\u001b[0;32m/usr/local/lib/python3.10/dist-packages/neo4j/_sync/work/session.py\u001b[0m in \u001b[0;36m_connect\u001b[0;34m(self, access_mode, **acquire_kwargs)\u001b[0m\n\u001b[1;32m    128\u001b[0m             \u001b[0maccess_mode\u001b[0m \u001b[0;34m=\u001b[0m \u001b[0mself\u001b[0m\u001b[0;34m.\u001b[0m\u001b[0m_config\u001b[0m\u001b[0;34m.\u001b[0m\u001b[0mdefault_access_mode\u001b[0m\u001b[0;34m\u001b[0m\u001b[0;34m\u001b[0m\u001b[0m\n\u001b[1;32m    129\u001b[0m         \u001b[0;32mtry\u001b[0m\u001b[0;34m:\u001b[0m\u001b[0;34m\u001b[0m\u001b[0;34m\u001b[0m\u001b[0m\n\u001b[0;32m--> 130\u001b[0;31m             super()._connect(\n\u001b[0m\u001b[1;32m    131\u001b[0m                 \u001b[0maccess_mode\u001b[0m\u001b[0;34m,\u001b[0m \u001b[0mauth\u001b[0m\u001b[0;34m=\u001b[0m\u001b[0mself\u001b[0m\u001b[0;34m.\u001b[0m\u001b[0m_config\u001b[0m\u001b[0;34m.\u001b[0m\u001b[0mauth\u001b[0m\u001b[0;34m,\u001b[0m \u001b[0;34m**\u001b[0m\u001b[0macquire_kwargs\u001b[0m\u001b[0;34m\u001b[0m\u001b[0;34m\u001b[0m\u001b[0m\n\u001b[1;32m    132\u001b[0m             )\n",
            "\u001b[0;32m/usr/local/lib/python3.10/dist-packages/neo4j/_sync/work/workspace.py\u001b[0m in \u001b[0;36m_connect\u001b[0;34m(self, access_mode, auth, **acquire_kwargs)\u001b[0m\n\u001b[1;32m    165\u001b[0m                 \u001b[0;31m# actions within this session.\u001b[0m\u001b[0;34m\u001b[0m\u001b[0;34m\u001b[0m\u001b[0m\n\u001b[1;32m    166\u001b[0m                 \u001b[0mlog\u001b[0m\u001b[0;34m.\u001b[0m\u001b[0mdebug\u001b[0m\u001b[0;34m(\u001b[0m\u001b[0;34m\"[#0000]  _: <WORKSPACE> resolve home database\"\u001b[0m\u001b[0;34m)\u001b[0m\u001b[0;34m\u001b[0m\u001b[0;34m\u001b[0m\u001b[0m\n\u001b[0;32m--> 167\u001b[0;31m                 self._pool.update_routing_table(\n\u001b[0m\u001b[1;32m    168\u001b[0m                     \u001b[0mdatabase\u001b[0m\u001b[0;34m=\u001b[0m\u001b[0mself\u001b[0m\u001b[0;34m.\u001b[0m\u001b[0m_config\u001b[0m\u001b[0;34m.\u001b[0m\u001b[0mdatabase\u001b[0m\u001b[0;34m,\u001b[0m\u001b[0;34m\u001b[0m\u001b[0;34m\u001b[0m\u001b[0m\n\u001b[1;32m    169\u001b[0m                     \u001b[0mimp_user\u001b[0m\u001b[0;34m=\u001b[0m\u001b[0mself\u001b[0m\u001b[0;34m.\u001b[0m\u001b[0m_config\u001b[0m\u001b[0;34m.\u001b[0m\u001b[0mimpersonated_user\u001b[0m\u001b[0;34m,\u001b[0m\u001b[0;34m\u001b[0m\u001b[0;34m\u001b[0m\u001b[0m\n",
            "\u001b[0;32m/usr/local/lib/python3.10/dist-packages/neo4j/_sync/io/_pool.py\u001b[0m in \u001b[0;36mupdate_routing_table\u001b[0;34m(self, database, imp_user, bookmarks, auth, acquisition_timeout, database_callback)\u001b[0m\n\u001b[1;32m    897\u001b[0m                 \u001b[0;32mand\u001b[0m\u001b[0;34m\u001b[0m\u001b[0;34m\u001b[0m\u001b[0m\n\u001b[1;32m    898\u001b[0m                 \u001b[0;31m# TODO: Test this state\u001b[0m\u001b[0;34m\u001b[0m\u001b[0;34m\u001b[0m\u001b[0m\n\u001b[0;32m--> 899\u001b[0;31m                 self._update_routing_table_from(\n\u001b[0m\u001b[1;32m    900\u001b[0m                     \u001b[0mself\u001b[0m\u001b[0;34m.\u001b[0m\u001b[0maddress\u001b[0m\u001b[0;34m,\u001b[0m\u001b[0;34m\u001b[0m\u001b[0;34m\u001b[0m\u001b[0m\n\u001b[1;32m    901\u001b[0m                     \u001b[0mdatabase\u001b[0m\u001b[0;34m=\u001b[0m\u001b[0mdatabase\u001b[0m\u001b[0;34m,\u001b[0m\u001b[0;34m\u001b[0m\u001b[0;34m\u001b[0m\u001b[0m\n",
            "\u001b[0;32m/usr/local/lib/python3.10/dist-packages/neo4j/_sync/io/_pool.py\u001b[0m in \u001b[0;36m_update_routing_table_from\u001b[0;34m(self, database, imp_user, bookmarks, auth, acquisition_timeout, database_callback, *routers)\u001b[0m\n\u001b[1;32m    830\u001b[0m                 \u001b[0mrouter\u001b[0m\u001b[0;34m,\u001b[0m \u001b[0mresolver\u001b[0m\u001b[0;34m=\u001b[0m\u001b[0mself\u001b[0m\u001b[0;34m.\u001b[0m\u001b[0mpool_config\u001b[0m\u001b[0;34m.\u001b[0m\u001b[0mresolver\u001b[0m\u001b[0;34m\u001b[0m\u001b[0;34m\u001b[0m\u001b[0m\n\u001b[1;32m    831\u001b[0m             ):\n\u001b[0;32m--> 832\u001b[0;31m                 new_routing_table = self.fetch_routing_table(\n\u001b[0m\u001b[1;32m    833\u001b[0m                     \u001b[0maddress\u001b[0m\u001b[0;34m=\u001b[0m\u001b[0maddress\u001b[0m\u001b[0;34m,\u001b[0m\u001b[0;34m\u001b[0m\u001b[0;34m\u001b[0m\u001b[0m\n\u001b[1;32m    834\u001b[0m                     \u001b[0macquisition_timeout\u001b[0m\u001b[0;34m=\u001b[0m\u001b[0macquisition_timeout\u001b[0m\u001b[0;34m,\u001b[0m\u001b[0;34m\u001b[0m\u001b[0;34m\u001b[0m\u001b[0m\n",
            "\u001b[0;32m/usr/local/lib/python3.10/dist-packages/neo4j/_sync/io/_pool.py\u001b[0m in \u001b[0;36mfetch_routing_table\u001b[0;34m(self, address, acquisition_timeout, database, imp_user, bookmarks, auth)\u001b[0m\n\u001b[1;32m    743\u001b[0m         \u001b[0mnew_routing_info\u001b[0m \u001b[0;34m=\u001b[0m \u001b[0;32mNone\u001b[0m\u001b[0;34m\u001b[0m\u001b[0;34m\u001b[0m\u001b[0m\n\u001b[1;32m    744\u001b[0m         \u001b[0;32mtry\u001b[0m\u001b[0;34m:\u001b[0m\u001b[0;34m\u001b[0m\u001b[0;34m\u001b[0m\u001b[0m\n\u001b[0;32m--> 745\u001b[0;31m             new_routing_info = self.fetch_routing_info(\n\u001b[0m\u001b[1;32m    746\u001b[0m                 \u001b[0maddress\u001b[0m\u001b[0;34m,\u001b[0m\u001b[0;34m\u001b[0m\u001b[0;34m\u001b[0m\u001b[0m\n\u001b[1;32m    747\u001b[0m                 \u001b[0mdatabase\u001b[0m\u001b[0;34m,\u001b[0m\u001b[0;34m\u001b[0m\u001b[0;34m\u001b[0m\u001b[0m\n",
            "\u001b[0;32m/usr/local/lib/python3.10/dist-packages/neo4j/_sync/io/_pool.py\u001b[0m in \u001b[0;36mfetch_routing_info\u001b[0;34m(self, address, database, imp_user, bookmarks, auth, acquisition_timeout)\u001b[0m\n\u001b[1;32m    704\u001b[0m             \u001b[0mauth\u001b[0m \u001b[0;34m=\u001b[0m \u001b[0mcopy\u001b[0m\u001b[0;34m(\u001b[0m\u001b[0mauth\u001b[0m\u001b[0;34m)\u001b[0m\u001b[0;34m\u001b[0m\u001b[0;34m\u001b[0m\u001b[0m\n\u001b[1;32m    705\u001b[0m             \u001b[0mauth\u001b[0m\u001b[0;34m.\u001b[0m\u001b[0mforce_auth\u001b[0m \u001b[0;34m=\u001b[0m \u001b[0;32mFalse\u001b[0m\u001b[0;34m\u001b[0m\u001b[0;34m\u001b[0m\u001b[0m\n\u001b[0;32m--> 706\u001b[0;31m         \u001b[0mcx\u001b[0m \u001b[0;34m=\u001b[0m \u001b[0mself\u001b[0m\u001b[0;34m.\u001b[0m\u001b[0m_acquire\u001b[0m\u001b[0;34m(\u001b[0m\u001b[0maddress\u001b[0m\u001b[0;34m,\u001b[0m \u001b[0mauth\u001b[0m\u001b[0;34m,\u001b[0m \u001b[0mdeadline\u001b[0m\u001b[0;34m,\u001b[0m \u001b[0;32mNone\u001b[0m\u001b[0;34m)\u001b[0m\u001b[0;34m\u001b[0m\u001b[0;34m\u001b[0m\u001b[0m\n\u001b[0m\u001b[1;32m    707\u001b[0m         \u001b[0;32mtry\u001b[0m\u001b[0;34m:\u001b[0m\u001b[0;34m\u001b[0m\u001b[0;34m\u001b[0m\u001b[0m\n\u001b[1;32m    708\u001b[0m             routing_table = cx.route(\n",
            "\u001b[0;32m/usr/local/lib/python3.10/dist-packages/neo4j/_sync/io/_pool.py\u001b[0m in \u001b[0;36m_acquire\u001b[0;34m(self, address, auth, deadline, liveness_check_timeout)\u001b[0m\n\u001b[1;32m    344\u001b[0m                     )\n\u001b[1;32m    345\u001b[0m         \u001b[0mlog\u001b[0m\u001b[0;34m.\u001b[0m\u001b[0mdebug\u001b[0m\u001b[0;34m(\u001b[0m\u001b[0;34m\"[#0000]  _: <POOL> trying to hand out new connection\"\u001b[0m\u001b[0;34m)\u001b[0m\u001b[0;34m\u001b[0m\u001b[0;34m\u001b[0m\u001b[0m\n\u001b[0;32m--> 346\u001b[0;31m         \u001b[0;32mreturn\u001b[0m \u001b[0mconnection_creator\u001b[0m\u001b[0;34m(\u001b[0m\u001b[0;34m)\u001b[0m\u001b[0;34m\u001b[0m\u001b[0;34m\u001b[0m\u001b[0m\n\u001b[0m\u001b[1;32m    347\u001b[0m \u001b[0;34m\u001b[0m\u001b[0m\n\u001b[1;32m    348\u001b[0m     \u001b[0;34m@\u001b[0m\u001b[0mabc\u001b[0m\u001b[0;34m.\u001b[0m\u001b[0mabstractmethod\u001b[0m\u001b[0;34m\u001b[0m\u001b[0;34m\u001b[0m\u001b[0m\n",
            "\u001b[0;32m/usr/local/lib/python3.10/dist-packages/neo4j/_sync/io/_pool.py\u001b[0m in \u001b[0;36mconnection_creator\u001b[0;34m()\u001b[0m\n\u001b[1;32m    167\u001b[0m             \u001b[0;32mtry\u001b[0m\u001b[0;34m:\u001b[0m\u001b[0;34m\u001b[0m\u001b[0;34m\u001b[0m\u001b[0m\n\u001b[1;32m    168\u001b[0m                 \u001b[0;32mtry\u001b[0m\u001b[0;34m:\u001b[0m\u001b[0;34m\u001b[0m\u001b[0;34m\u001b[0m\u001b[0m\n\u001b[0;32m--> 169\u001b[0;31m                     connection = self.opener(\n\u001b[0m\u001b[1;32m    170\u001b[0m                         \u001b[0maddress\u001b[0m\u001b[0;34m,\u001b[0m \u001b[0mauth\u001b[0m \u001b[0;32mor\u001b[0m \u001b[0mself\u001b[0m\u001b[0;34m.\u001b[0m\u001b[0mpool_config\u001b[0m\u001b[0;34m.\u001b[0m\u001b[0mauth\u001b[0m\u001b[0;34m,\u001b[0m \u001b[0mdeadline\u001b[0m\u001b[0;34m\u001b[0m\u001b[0;34m\u001b[0m\u001b[0m\n\u001b[1;32m    171\u001b[0m                     )\n",
            "\u001b[0;32m/usr/local/lib/python3.10/dist-packages/neo4j/_sync/io/_pool.py\u001b[0m in \u001b[0;36mopener\u001b[0;34m(addr, auth_manager, deadline)\u001b[0m\n\u001b[1;32m    627\u001b[0m \u001b[0;34m\u001b[0m\u001b[0m\n\u001b[1;32m    628\u001b[0m         \u001b[0;32mdef\u001b[0m \u001b[0mopener\u001b[0m\u001b[0;34m(\u001b[0m\u001b[0maddr\u001b[0m\u001b[0;34m,\u001b[0m \u001b[0mauth_manager\u001b[0m\u001b[0;34m,\u001b[0m \u001b[0mdeadline\u001b[0m\u001b[0;34m)\u001b[0m\u001b[0;34m:\u001b[0m\u001b[0;34m\u001b[0m\u001b[0;34m\u001b[0m\u001b[0m\n\u001b[0;32m--> 629\u001b[0;31m             return Bolt.open(\n\u001b[0m\u001b[1;32m    630\u001b[0m                 \u001b[0maddr\u001b[0m\u001b[0;34m,\u001b[0m\u001b[0;34m\u001b[0m\u001b[0;34m\u001b[0m\u001b[0m\n\u001b[1;32m    631\u001b[0m                 \u001b[0mauth_manager\u001b[0m\u001b[0;34m=\u001b[0m\u001b[0mauth_manager\u001b[0m\u001b[0;34m,\u001b[0m\u001b[0;34m\u001b[0m\u001b[0;34m\u001b[0m\u001b[0m\n",
            "\u001b[0;32m/usr/local/lib/python3.10/dist-packages/neo4j/_sync/io/_bolt.py\u001b[0m in \u001b[0;36mopen\u001b[0;34m(cls, address, auth_manager, deadline, routing_context, pool_config)\u001b[0m\n\u001b[1;32m    551\u001b[0m             \u001b[0mconnection\u001b[0m\u001b[0;34m.\u001b[0m\u001b[0msocket\u001b[0m\u001b[0;34m.\u001b[0m\u001b[0mset_deadline\u001b[0m\u001b[0;34m(\u001b[0m\u001b[0mdeadline\u001b[0m\u001b[0;34m)\u001b[0m\u001b[0;34m\u001b[0m\u001b[0;34m\u001b[0m\u001b[0m\n\u001b[1;32m    552\u001b[0m             \u001b[0;32mtry\u001b[0m\u001b[0;34m:\u001b[0m\u001b[0;34m\u001b[0m\u001b[0;34m\u001b[0m\u001b[0m\n\u001b[0;32m--> 553\u001b[0;31m                 \u001b[0mconnection\u001b[0m\u001b[0;34m.\u001b[0m\u001b[0mhello\u001b[0m\u001b[0;34m(\u001b[0m\u001b[0;34m)\u001b[0m\u001b[0;34m\u001b[0m\u001b[0;34m\u001b[0m\u001b[0m\n\u001b[0m\u001b[1;32m    554\u001b[0m             \u001b[0;32mfinally\u001b[0m\u001b[0;34m:\u001b[0m\u001b[0;34m\u001b[0m\u001b[0;34m\u001b[0m\u001b[0m\n\u001b[1;32m    555\u001b[0m                 \u001b[0mconnection\u001b[0m\u001b[0;34m.\u001b[0m\u001b[0msocket\u001b[0m\u001b[0;34m.\u001b[0m\u001b[0mset_deadline\u001b[0m\u001b[0;34m(\u001b[0m\u001b[0;32mNone\u001b[0m\u001b[0;34m)\u001b[0m\u001b[0;34m\u001b[0m\u001b[0;34m\u001b[0m\u001b[0m\n",
            "\u001b[0;32m/usr/local/lib/python3.10/dist-packages/neo4j/_sync/io/_bolt5.py\u001b[0m in \u001b[0;36mhello\u001b[0;34m(self, dehydration_hooks, hydration_hooks)\u001b[0m\n\u001b[1;32m    691\u001b[0m         \u001b[0mself\u001b[0m\u001b[0;34m.\u001b[0m\u001b[0mlogon\u001b[0m\u001b[0;34m(\u001b[0m\u001b[0mdehydration_hooks\u001b[0m\u001b[0;34m,\u001b[0m \u001b[0mhydration_hooks\u001b[0m\u001b[0;34m)\u001b[0m\u001b[0;34m\u001b[0m\u001b[0;34m\u001b[0m\u001b[0m\n\u001b[1;32m    692\u001b[0m         \u001b[0mself\u001b[0m\u001b[0;34m.\u001b[0m\u001b[0msend_all\u001b[0m\u001b[0;34m(\u001b[0m\u001b[0;34m)\u001b[0m\u001b[0;34m\u001b[0m\u001b[0;34m\u001b[0m\u001b[0m\n\u001b[0;32m--> 693\u001b[0;31m         \u001b[0mself\u001b[0m\u001b[0;34m.\u001b[0m\u001b[0mfetch_all\u001b[0m\u001b[0;34m(\u001b[0m\u001b[0;34m)\u001b[0m\u001b[0;34m\u001b[0m\u001b[0;34m\u001b[0m\u001b[0m\n\u001b[0m\u001b[1;32m    694\u001b[0m         \u001b[0mcheck_supported_server_product\u001b[0m\u001b[0;34m(\u001b[0m\u001b[0mself\u001b[0m\u001b[0;34m.\u001b[0m\u001b[0mserver_info\u001b[0m\u001b[0;34m.\u001b[0m\u001b[0magent\u001b[0m\u001b[0;34m)\u001b[0m\u001b[0;34m\u001b[0m\u001b[0;34m\u001b[0m\u001b[0m\n\u001b[1;32m    695\u001b[0m \u001b[0;34m\u001b[0m\u001b[0m\n",
            "\u001b[0;32m/usr/local/lib/python3.10/dist-packages/neo4j/_sync/io/_bolt.py\u001b[0m in \u001b[0;36mfetch_all\u001b[0;34m(self)\u001b[0m\n\u001b[1;32m    990\u001b[0m             \u001b[0mresponse\u001b[0m \u001b[0;34m=\u001b[0m \u001b[0mself\u001b[0m\u001b[0;34m.\u001b[0m\u001b[0mresponses\u001b[0m\u001b[0;34m[\u001b[0m\u001b[0;36m0\u001b[0m\u001b[0;34m]\u001b[0m\u001b[0;34m\u001b[0m\u001b[0;34m\u001b[0m\u001b[0m\n\u001b[1;32m    991\u001b[0m             \u001b[0;32mwhile\u001b[0m \u001b[0;32mnot\u001b[0m \u001b[0mresponse\u001b[0m\u001b[0;34m.\u001b[0m\u001b[0mcomplete\u001b[0m\u001b[0;34m:\u001b[0m\u001b[0;34m\u001b[0m\u001b[0;34m\u001b[0m\u001b[0m\n\u001b[0;32m--> 992\u001b[0;31m                 \u001b[0mdetail_delta\u001b[0m\u001b[0;34m,\u001b[0m \u001b[0msummary_delta\u001b[0m \u001b[0;34m=\u001b[0m \u001b[0mself\u001b[0m\u001b[0;34m.\u001b[0m\u001b[0mfetch_message\u001b[0m\u001b[0;34m(\u001b[0m\u001b[0;34m)\u001b[0m\u001b[0;34m\u001b[0m\u001b[0;34m\u001b[0m\u001b[0m\n\u001b[0m\u001b[1;32m    993\u001b[0m                 \u001b[0mdetail_count\u001b[0m \u001b[0;34m+=\u001b[0m \u001b[0mdetail_delta\u001b[0m\u001b[0;34m\u001b[0m\u001b[0;34m\u001b[0m\u001b[0m\n\u001b[1;32m    994\u001b[0m                 \u001b[0msummary_count\u001b[0m \u001b[0;34m+=\u001b[0m \u001b[0msummary_delta\u001b[0m\u001b[0;34m\u001b[0m\u001b[0;34m\u001b[0m\u001b[0m\n",
            "\u001b[0;32m/usr/local/lib/python3.10/dist-packages/neo4j/_sync/io/_bolt.py\u001b[0m in \u001b[0;36mfetch_message\u001b[0;34m(self)\u001b[0m\n\u001b[1;32m    975\u001b[0m             \u001b[0mhydration_hooks\u001b[0m\u001b[0;34m=\u001b[0m\u001b[0mself\u001b[0m\u001b[0;34m.\u001b[0m\u001b[0mresponses\u001b[0m\u001b[0;34m[\u001b[0m\u001b[0;36m0\u001b[0m\u001b[0;34m]\u001b[0m\u001b[0;34m.\u001b[0m\u001b[0mhydration_hooks\u001b[0m\u001b[0;34m\u001b[0m\u001b[0;34m\u001b[0m\u001b[0m\n\u001b[1;32m    976\u001b[0m         )\n\u001b[0;32m--> 977\u001b[0;31m         \u001b[0mres\u001b[0m \u001b[0;34m=\u001b[0m \u001b[0mself\u001b[0m\u001b[0;34m.\u001b[0m\u001b[0m_process_message\u001b[0m\u001b[0;34m(\u001b[0m\u001b[0mtag\u001b[0m\u001b[0;34m,\u001b[0m \u001b[0mfields\u001b[0m\u001b[0;34m)\u001b[0m\u001b[0;34m\u001b[0m\u001b[0;34m\u001b[0m\u001b[0m\n\u001b[0m\u001b[1;32m    978\u001b[0m         \u001b[0mself\u001b[0m\u001b[0;34m.\u001b[0m\u001b[0midle_since\u001b[0m \u001b[0;34m=\u001b[0m \u001b[0mmonotonic\u001b[0m\u001b[0;34m(\u001b[0m\u001b[0;34m)\u001b[0m\u001b[0;34m\u001b[0m\u001b[0;34m\u001b[0m\u001b[0m\n\u001b[1;32m    979\u001b[0m         \u001b[0;32mreturn\u001b[0m \u001b[0mres\u001b[0m\u001b[0;34m\u001b[0m\u001b[0;34m\u001b[0m\u001b[0m\n",
            "\u001b[0;32m/usr/local/lib/python3.10/dist-packages/neo4j/_sync/io/_bolt5.py\u001b[0m in \u001b[0;36m_process_message\u001b[0;34m(self, tag, fields)\u001b[0m\n\u001b[1;32m    464\u001b[0m             \u001b[0mself\u001b[0m\u001b[0;34m.\u001b[0m\u001b[0m_server_state_manager\u001b[0m\u001b[0;34m.\u001b[0m\u001b[0mstate\u001b[0m \u001b[0;34m=\u001b[0m \u001b[0mself\u001b[0m\u001b[0;34m.\u001b[0m\u001b[0mbolt_states\u001b[0m\u001b[0;34m.\u001b[0m\u001b[0mFAILED\u001b[0m\u001b[0;34m\u001b[0m\u001b[0;34m\u001b[0m\u001b[0m\n\u001b[1;32m    465\u001b[0m             \u001b[0;32mtry\u001b[0m\u001b[0;34m:\u001b[0m\u001b[0;34m\u001b[0m\u001b[0;34m\u001b[0m\u001b[0m\n\u001b[0;32m--> 466\u001b[0;31m                 \u001b[0mresponse\u001b[0m\u001b[0;34m.\u001b[0m\u001b[0mon_failure\u001b[0m\u001b[0;34m(\u001b[0m\u001b[0msummary_metadata\u001b[0m \u001b[0;32mor\u001b[0m \u001b[0;34m{\u001b[0m\u001b[0;34m}\u001b[0m\u001b[0;34m)\u001b[0m\u001b[0;34m\u001b[0m\u001b[0;34m\u001b[0m\u001b[0m\n\u001b[0m\u001b[1;32m    467\u001b[0m             \u001b[0;32mexcept\u001b[0m \u001b[0;34m(\u001b[0m\u001b[0mServiceUnavailable\u001b[0m\u001b[0;34m,\u001b[0m \u001b[0mDatabaseUnavailable\u001b[0m\u001b[0;34m)\u001b[0m\u001b[0;34m:\u001b[0m\u001b[0;34m\u001b[0m\u001b[0;34m\u001b[0m\u001b[0m\n\u001b[1;32m    468\u001b[0m                 \u001b[0;32mif\u001b[0m \u001b[0mself\u001b[0m\u001b[0;34m.\u001b[0m\u001b[0mpool\u001b[0m\u001b[0;34m:\u001b[0m\u001b[0;34m\u001b[0m\u001b[0;34m\u001b[0m\u001b[0m\n",
            "\u001b[0;32m/usr/local/lib/python3.10/dist-packages/neo4j/_sync/io/_common.py\u001b[0m in \u001b[0;36mon_failure\u001b[0;34m(self, metadata)\u001b[0m\n\u001b[1;32m    284\u001b[0m         \u001b[0mhandler\u001b[0m \u001b[0;34m=\u001b[0m \u001b[0mself\u001b[0m\u001b[0;34m.\u001b[0m\u001b[0mhandlers\u001b[0m\u001b[0;34m.\u001b[0m\u001b[0mget\u001b[0m\u001b[0;34m(\u001b[0m\u001b[0;34m\"on_summary\"\u001b[0m\u001b[0;34m)\u001b[0m\u001b[0;34m\u001b[0m\u001b[0;34m\u001b[0m\u001b[0m\n\u001b[1;32m    285\u001b[0m         \u001b[0mUtil\u001b[0m\u001b[0;34m.\u001b[0m\u001b[0mcallback\u001b[0m\u001b[0;34m(\u001b[0m\u001b[0mhandler\u001b[0m\u001b[0;34m)\u001b[0m\u001b[0;34m\u001b[0m\u001b[0;34m\u001b[0m\u001b[0m\n\u001b[0;32m--> 286\u001b[0;31m         \u001b[0;32mraise\u001b[0m \u001b[0mNeo4jError\u001b[0m\u001b[0;34m.\u001b[0m\u001b[0mhydrate\u001b[0m\u001b[0;34m(\u001b[0m\u001b[0;34m**\u001b[0m\u001b[0mmetadata\u001b[0m\u001b[0;34m)\u001b[0m\u001b[0;34m\u001b[0m\u001b[0;34m\u001b[0m\u001b[0m\n\u001b[0m\u001b[1;32m    287\u001b[0m \u001b[0;34m\u001b[0m\u001b[0m\n\u001b[1;32m    288\u001b[0m \u001b[0;34m\u001b[0m\u001b[0m\n",
            "\u001b[0;31mAuthError\u001b[0m: {code: Neo.ClientError.Security.Unauthorized} {message: The client is unauthorized due to authentication failure.}"
          ]
        }
      ]
    },
    {
      "cell_type": "markdown",
      "source": [
        "## 1.3. Knowledge Graph with Structured Outputs\n",
        "What LlamaIndex offer as KG generation method didn't perform well as we expected. The problem is that it is highly dependent on the input document and this switching from text to KG directly (at least for default extractor in LlamaIndex) is, as we saw in §1.1., prone to differ from the schema that we defined.\n",
        "\n",
        "From [Together Cookbook](https://https://github.com/togethercomputer/together-cookbook) I find a way to restrict the output of LLM using Pydantic in JSON format.\n",
        "Consider it a new start, LlamaIndex is dead and longlive Together.ai!"
      ],
      "metadata": {
        "id": "VqdDBppn-asb"
      }
    },
    {
      "cell_type": "code",
      "source": [
        "!pip install together graphviz"
      ],
      "metadata": {
        "id": "9FTjeX2eA2AC"
      },
      "execution_count": null,
      "outputs": []
    },
    {
      "cell_type": "code",
      "source": [
        "from together import Together\n",
        "import together\n",
        "import os, json\n",
        "from google.colab import userdata\n",
        "from pydantic import BaseModel, Field\n",
        "from typing import List\n",
        "from enum import Enum\n",
        "from graphviz import Digraph\n",
        "from google.colab import files\n",
        "from google.colab import userdata\n",
        "\n",
        "TOGETHER_API_KEY = userdata.get('TOGETHER_AI_KEY')"
      ],
      "metadata": {
        "id": "cp367pHkBvKQ"
      },
      "execution_count": null,
      "outputs": []
    },
    {
      "cell_type": "markdown",
      "source": [
        "Definition of schema in JSON"
      ],
      "metadata": {
        "id": "EWI_pU7fCMUb"
      }
    },
    {
      "cell_type": "code",
      "source": [
        "class Node(BaseModel, frozen=True):\n",
        "    id: int\n",
        "    label: str\n",
        "\n",
        "class RestrictedLabel(str, Enum):\n",
        "    HAS_PARENT = \"HAS_PARENT\"\n",
        "    HAS_SPOUSE = \"HAS_SPOUSE\"\n",
        "    HAS_CHILD = \"HAS_CHILD\"\n",
        "    HAS_SIBLING = \"HAS_SIBLING\"\n",
        "\n",
        "class Edge(BaseModel, frozen=True):\n",
        "    source: int\n",
        "    target: int\n",
        "    label: RestrictedLabel\n",
        "\n",
        "class KnowledgeGraph(BaseModel):\n",
        "    nodes: List[Node] = Field(..., default_factory=list)\n",
        "    edges: List[Edge] = Field(..., default_factory=list)\n",
        "\n",
        "KnowledgeGraph.model_json_schema()"
      ],
      "metadata": {
        "id": "ABkJxEUrCIwZ"
      },
      "execution_count": null,
      "outputs": []
    },
    {
      "cell_type": "code",
      "source": [
        "# Visulize KG with Graphviz\n",
        "def visualize_knowledge_graph(kg):\n",
        "    dot = Digraph(comment=\"Knowledge Graph\", format='png')\n",
        "\n",
        "    # Add nodes\n",
        "    for node in kg['nodes']:\n",
        "        dot.node(str(node['id']), node['label'])\n",
        "\n",
        "    # Add edges\n",
        "    for edge in kg['edges']:\n",
        "        dot.edge(str(edge['source']), str(edge['target']), label=edge['label'])\n",
        "\n",
        "    # Render the graph to a file and open it\n",
        "    output_path = dot.render(\"knowledge_graph\", view=True)\n",
        "    print(f\"Graph rendered and saved to {output_path}\")\n",
        "\n",
        "# Call the LLM with the JSON schema\n",
        "def generate_graph(input) -> KnowledgeGraph:\n",
        "    together = Together(api_key = TOGETHER_API_KEY)\n",
        "\n",
        "    extract = together.chat.completions.create(\n",
        "        messages=[\n",
        "            {\n",
        "                \"role\": \"user\",\n",
        "                \"content\": f\"\"\"Create a family relationship knowledge graph for characters in {input}.\n",
        "                 Only answer in JSON and follow these rules:\n",
        "                 Edges must use one of these labels: HAS_PARENT, HAS_SPOUSE, HAS_CHILD, or HAS_SIBLING.\"\"\"\n",
        "            }\n",
        "        ],\n",
        "        model=\"meta-llama/Meta-Llama-3.1-70B-Instruct-Turbo\",\n",
        "        response_format={\n",
        "            \"type\": \"json_object\",\n",
        "            \"schema\": KnowledgeGraph.model_json_schema(),\n",
        "        },\n",
        "    )\n",
        "\n",
        "    output = json.loads(extract.choices[0].message.content)\n",
        "    return output"
      ],
      "metadata": {
        "id": "3KIicXKBCTk6"
      },
      "execution_count": null,
      "outputs": []
    },
    {
      "cell_type": "code",
      "source": [
        "graph = generate_graph(\"The Tale of Heike\")\n",
        "# print(graph)\n",
        "\n",
        "with open('output.json', 'w') as f:\n",
        "    json.dump(graph, f)\n",
        "files.download('output.json')\n",
        "\n",
        "visualize_knowledge_graph(graph)\n",
        "display(Image(filename='/content/knowledge_graph.png'))"
      ],
      "metadata": {
        "id": "5ECegS86Cy9u"
      },
      "execution_count": null,
      "outputs": []
    }
  ]
}